{
 "cells": [
  {
   "cell_type": "code",
   "execution_count": 2,
   "metadata": {
    "ExecuteTime": {
     "end_time": "2020-09-16T00:11:03.870962Z",
     "start_time": "2020-09-16T00:10:59.120566Z"
    }
   },
   "outputs": [],
   "source": [
    "import numpy as np\n",
    "import matplotlib.pyplot as plt\n",
    "from tensorflow import keras\n",
    "\n",
    "mnist = keras.datasets.mnist"
   ]
  },
  {
   "cell_type": "code",
   "execution_count": 3,
   "metadata": {
    "ExecuteTime": {
     "end_time": "2020-09-16T00:11:04.310595Z",
     "start_time": "2020-09-16T00:11:03.872964Z"
    }
   },
   "outputs": [
    {
     "name": "stdout",
     "output_type": "stream",
     "text": [
      "Training Data : (60000, 28, 28), (60000,)\n",
      "Test Data : (10000, 28, 28), (10000,)\n"
     ]
    }
   ],
   "source": [
    "(train_images, train_labels), (test_images, test_labels) = mnist.load_data()\n",
    "\n",
    "print(\"Training Data : {}, {}\".format(train_images.shape, train_labels.shape))\n",
    "print(\"Test Data : {}, {}\".format(test_images.shape, test_labels.shape))"
   ]
  },
  {
   "cell_type": "code",
   "execution_count": 4,
   "metadata": {
    "ExecuteTime": {
     "end_time": "2020-09-16T00:11:04.324586Z",
     "start_time": "2020-09-16T00:11:04.314593Z"
    }
   },
   "outputs": [
    {
     "name": "stdout",
     "output_type": "stream",
     "text": [
      "There are 10 classes in the dataset. They are [0 1 2 3 4 5 6 7 8 9]\n"
     ]
    }
   ],
   "source": [
    "class_labels = np.unique(train_labels)\n",
    "print(\"There are {} classes in the dataset. They are {}\".format(len(class_labels), class_labels))"
   ]
  },
  {
   "cell_type": "code",
   "execution_count": 5,
   "metadata": {
    "ExecuteTime": {
     "end_time": "2020-09-16T00:11:05.901979Z",
     "start_time": "2020-09-16T00:11:05.408403Z"
    }
   },
   "outputs": [
    {
     "data": {
      "text/plain": [
       "<matplotlib.image.AxesImage at 0x252df780d88>"
      ]
     },
     "execution_count": 5,
     "metadata": {},
     "output_type": "execute_result"
    },
    {
     "data": {
      "image/png": "[encoded data removed]",
      "text/plain": [
       "<Figure size 576x360 with 3 Axes>"
      ]
     },
     "metadata": {
      "needs_background": "light"
     },
     "output_type": "display_data"
    }
   ],
   "source": [
    "plt.figure(figsize=(8,5))\n",
    "\n",
    "plt.subplot(1,3,1)\n",
    "plt.imshow(train_images[30])\n",
    "plt.title(\"Label {}\".format(train_labels[30]))\n",
    "\n",
    "plt.subplot(1,3,2)\n",
    "plt.imshow(train_images[2500])\n",
    "plt.title(\"Label {}\".format(train_labels[2500]))\n",
    "\n",
    "plt.subplot(1,3,3)\n",
    "plt.imshow(test_images[12])"
   ]
  },
  {
   "cell_type": "code",
   "execution_count": 6,
   "metadata": {
    "ExecuteTime": {
     "end_time": "2020-09-16T00:11:08.051053Z",
     "start_time": "2020-09-16T00:11:07.529375Z"
    }
   },
   "outputs": [],
   "source": [
    "train_images = train_images/255.0\n",
    "test_images = test_images/255.0"
   ]
  },
  {
   "cell_type": "code",
   "execution_count": 7,
   "metadata": {
    "ExecuteTime": {
     "end_time": "2020-09-16T00:11:08.672670Z",
     "start_time": "2020-09-16T00:11:08.661676Z"
    }
   },
   "outputs": [
    {
     "name": "stdout",
     "output_type": "stream",
     "text": [
      "(50000, 28, 28)\n",
      "(10000, 28, 28)\n",
      "(50000,)\n",
      "(10000,)\n"
     ]
    }
   ],
   "source": [
    "x_train = train_images[0:50000]\n",
    "x_val = train_images[50000:]\n",
    "y_train = train_labels[0:50000]\n",
    "y_val = train_labels[50000:]\n",
    "\n",
    "\n",
    "print(x_train.shape)\n",
    "print(x_val.shape)\n",
    "print(y_train.shape)\n",
    "print(y_val.shape)"
   ]
  },
  {
   "cell_type": "code",
   "execution_count": 8,
   "metadata": {
    "ExecuteTime": {
     "end_time": "2020-09-16T00:11:10.809693Z",
     "start_time": "2020-09-16T00:11:10.798702Z"
    }
   },
   "outputs": [],
   "source": [
    "# Reshape the data to two dimensinal array\n",
    "new_dimension = np.prod(train_images.shape[1:])\n",
    "x_train = x_train.reshape(x_train.shape[0], new_dimension)\n",
    "x_val = x_val.reshape(x_val.shape[0], new_dimension)\n",
    "test_images = test_images.reshape(test_images.shape[0], new_dimension)"
   ]
  },
  {
   "cell_type": "code",
   "execution_count": 9,
   "metadata": {
    "ExecuteTime": {
     "end_time": "2020-09-16T00:11:57.119887Z",
     "start_time": "2020-09-16T00:11:57.110892Z"
    }
   },
   "outputs": [],
   "source": [
    "# Encode Labels to categorical variables\n",
    "from tensorflow.keras.utils import to_categorical\n",
    "no_labels = 10\n",
    "y_train = to_categorical(y_train, no_labels)\n",
    "y_val = to_categorical(y_val, no_labels)\n",
    "y_test = to_categorical(test_labels, no_labels)"
   ]
  },
  {
   "cell_type": "code",
   "execution_count": null,
   "metadata": {},
   "outputs": [],
   "source": []
  },
  {
   "cell_type": "code",
   "execution_count": null,
   "metadata": {},
   "outputs": [],
   "source": []
  },
  {
   "cell_type": "code",
   "execution_count": 11,
   "metadata": {
    "ExecuteTime": {
     "end_time": "2020-09-16T00:12:16.000119Z",
     "start_time": "2020-09-16T00:12:15.301385Z"
    }
   },
   "outputs": [],
   "source": [
    "#Building a Sequential Feed Forward Network in Keras\n",
    "import tensorflow as tf\n",
    "from tensorflow.keras.layers import Dense\n",
    "from tensorflow.keras.models import Sequential\n",
    "\n",
    "model = Sequential()\n",
    "model.add(Dense(256, activation='relu', input_shape=(new_dimension,)))\n",
    "model.add(Dense(128, activation='relu'))\n",
    "model.add(Dense(no_labels, activation='softmax'))"
   ]
  },
  {
   "cell_type": "code",
   "execution_count": 13,
   "metadata": {
    "ExecuteTime": {
     "end_time": "2020-09-16T00:19:21.294606Z",
     "start_time": "2020-09-16T00:18:38.303504Z"
    }
   },
   "outputs": [
    {
     "name": "stdout",
     "output_type": "stream",
     "text": [
      "Epoch 1/20\n",
      "50/50 [==============================] - 3s 53ms/step - loss: 0.2440 - accuracy: 0.9291 - val_loss: 0.1839 - val_accuracy: 0.9501\n",
      "Epoch 2/20\n",
      "50/50 [==============================] - 2s 38ms/step - loss: 0.1693 - accuracy: 0.9519 - val_loss: 0.1458 - val_accuracy: 0.9592\n",
      "Epoch 3/20\n",
      "50/50 [==============================] - 2s 42ms/step - loss: 0.1316 - accuracy: 0.9621 - val_loss: 0.1211 - val_accuracy: 0.9666\n",
      "Epoch 4/20\n",
      "50/50 [==============================] - 2s 45ms/step - loss: 0.1033 - accuracy: 0.9703 - val_loss: 0.1086 - val_accuracy: 0.9679\n",
      "Epoch 5/20\n",
      "50/50 [==============================] - 2s 42ms/step - loss: 0.0853 - accuracy: 0.9756 - val_loss: 0.0965 - val_accuracy: 0.9710\n",
      "Epoch 6/20\n",
      "50/50 [==============================] - 2s 38ms/step - loss: 0.0720 - accuracy: 0.9798 - val_loss: 0.0930 - val_accuracy: 0.9730\n",
      "Epoch 7/20\n",
      "50/50 [==============================] - 2s 41ms/step - loss: 0.0581 - accuracy: 0.9837 - val_loss: 0.0863 - val_accuracy: 0.9745\n",
      "Epoch 8/20\n",
      "50/50 [==============================] - 2s 49ms/step - loss: 0.0488 - accuracy: 0.9865 - val_loss: 0.0820 - val_accuracy: 0.9755\n",
      "Epoch 9/20\n",
      "50/50 [==============================] - 2s 36ms/step - loss: 0.0426 - accuracy: 0.9883 - val_loss: 0.0819 - val_accuracy: 0.9769\n",
      "Epoch 10/20\n",
      "50/50 [==============================] - 2s 42ms/step - loss: 0.0358 - accuracy: 0.9906 - val_loss: 0.0771 - val_accuracy: 0.9782\n",
      "Epoch 11/20\n",
      "50/50 [==============================] - 2s 46ms/step - loss: 0.0308 - accuracy: 0.9922 - val_loss: 0.0787 - val_accuracy: 0.9780\n",
      "Epoch 12/20\n",
      "50/50 [==============================] - 2s 37ms/step - loss: 0.0257 - accuracy: 0.9938 - val_loss: 0.0768 - val_accuracy: 0.9778\n",
      "Epoch 13/20\n",
      "50/50 [==============================] - 2s 36ms/step - loss: 0.0219 - accuracy: 0.9951 - val_loss: 0.0769 - val_accuracy: 0.9784\n",
      "Epoch 14/20\n",
      "50/50 [==============================] - 2s 42ms/step - loss: 0.0183 - accuracy: 0.9963 - val_loss: 0.0793 - val_accuracy: 0.9780\n",
      "Epoch 15/20\n",
      "50/50 [==============================] - 2s 42ms/step - loss: 0.0158 - accuracy: 0.9970 - val_loss: 0.0763 - val_accuracy: 0.9794\n",
      "Epoch 16/20\n",
      "50/50 [==============================] - 2s 37ms/step - loss: 0.0137 - accuracy: 0.9975 - val_loss: 0.0766 - val_accuracy: 0.9800\n",
      "Epoch 17/20\n",
      "50/50 [==============================] - 2s 41ms/step - loss: 0.0114 - accuracy: 0.9981 - val_loss: 0.0762 - val_accuracy: 0.9780\n",
      "Epoch 18/20\n",
      "50/50 [==============================] - 2s 47ms/step - loss: 0.0096 - accuracy: 0.9987 - val_loss: 0.0773 - val_accuracy: 0.9805\n",
      "Epoch 19/20\n",
      "50/50 [==============================] - 2s 37ms/step - loss: 0.0088 - accuracy: 0.9989 - val_loss: 0.0800 - val_accuracy: 0.9787\n",
      "Epoch 20/20\n",
      "50/50 [==============================] - 2s 37ms/step - loss: 0.0073 - accuracy: 0.9990 - val_loss: 0.0840 - val_accuracy: 0.9792\n"
     ]
    }
   ],
   "source": [
    "model.compile(optimizer='adam', loss=tf.keras.losses.categorical_crossentropy, metrics=['accuracy'])\n",
    "\n",
    "history = model.fit(x_train, y_train, validation_data=(x_val, y_val), epochs=20, batch_size=1000)"
   ]
  },
  {
   "cell_type": "code",
   "execution_count": 14,
   "metadata": {
    "ExecuteTime": {
     "end_time": "2020-09-16T00:19:35.383620Z",
     "start_time": "2020-09-16T00:19:35.360637Z"
    }
   },
   "outputs": [
    {
     "data": {
      "text/plain": [
       "array([7, 2, 1, ..., 4, 5, 6], dtype=uint8)"
      ]
     },
     "execution_count": 14,
     "metadata": {},
     "output_type": "execute_result"
    }
   ],
   "source": [
    "test_labels"
   ]
  },
  {
   "cell_type": "code",
   "execution_count": 16,
   "metadata": {
    "ExecuteTime": {
     "end_time": "2020-09-16T00:20:48.737553Z",
     "start_time": "2020-09-16T00:20:47.704997Z"
    }
   },
   "outputs": [
    {
     "name": "stdout",
     "output_type": "stream",
     "text": [
      "313/313 [==============================] - 1s 2ms/step - loss: 0.0707 - accuracy: 0.9794\n",
      "Test loss: 0.07067396491765976\n",
      "Test accuracy: 0.9793999791145325\n"
     ]
    }
   ],
   "source": [
    "test_loss, test_accuracy = model.evaluate(test_images, y_test)\n",
    "\n",
    "print('Test loss: {}'.format(test_loss))\n",
    "print('Test accuracy: {}'.format(test_accuracy))"
   ]
  },
  {
   "cell_type": "code",
   "execution_count": 18,
   "metadata": {
    "ExecuteTime": {
     "end_time": "2020-09-16T00:22:53.901102Z",
     "start_time": "2020-09-16T00:22:53.508563Z"
    }
   },
   "outputs": [
    {
     "data": {
      "text/plain": [
       "Text(0.5, 1.0, 'Loss Curves - Before Reularization')"
      ]
     },
     "execution_count": 18,
     "metadata": {},
     "output_type": "execute_result"
    },
    {
     "data": {
      "image/png": "[encoded data removed]",
      "text/plain": [
       "<Figure size 432x288 with 1 Axes>"
      ]
     },
     "metadata": {
      "needs_background": "light"
     },
     "output_type": "display_data"
    }
   ],
   "source": [
    "# check for overfitting\n",
    "plt.figure()\n",
    "plt.plot(history.history['loss'], 'blue')\n",
    "plt.plot(history.history['val_loss'], 'red')\n",
    "plt.legend(['Training loss', 'Validation loss'])\n",
    "plt.xlabel('Epochs')\n",
    "plt.ylabel('Loss')\n",
    "plt.title('Loss Curves - Before Reularization')"
   ]
  },
  {
   "cell_type": "code",
   "execution_count": 20,
   "metadata": {
    "ExecuteTime": {
     "end_time": "2020-09-16T00:24:55.749816Z",
     "start_time": "2020-09-16T00:24:55.391944Z"
    }
   },
   "outputs": [],
   "source": [
    "from tensorflow.keras.layers import Dropout\n",
    "reg_model = Sequential()\n",
    "reg_model.add(Dense(256, activation='relu', input_shape=(new_dimension,)))\n",
    "reg_model.add(Dropout(0.4))\n",
    "reg_model.add(Dense(128, activation='relu'))\n",
    "reg_model.add(Dropout(0.4))\n",
    "reg_model.add(Dense(no_labels, activation='softmax'))"
   ]
  },
  {
   "cell_type": "code",
   "execution_count": 21,
   "metadata": {
    "ExecuteTime": {
     "end_time": "2020-09-16T00:25:49.219234Z",
     "start_time": "2020-09-16T00:25:00.930689Z"
    }
   },
   "outputs": [
    {
     "name": "stdout",
     "output_type": "stream",
     "text": [
      "Epoch 1/20\n",
      "50/50 [==============================] - 2s 46ms/step - loss: 0.9735 - accuracy: 0.6946 - val_loss: 0.2961 - val_accuracy: 0.9145\n",
      "Epoch 2/20\n",
      "50/50 [==============================] - 3s 51ms/step - loss: 0.3847 - accuracy: 0.8849 - val_loss: 0.2086 - val_accuracy: 0.9401\n",
      "Epoch 3/20\n",
      "50/50 [==============================] - 2s 43ms/step - loss: 0.2872 - accuracy: 0.9173 - val_loss: 0.1646 - val_accuracy: 0.9529\n",
      "Epoch 4/20\n",
      "50/50 [==============================] - 2s 41ms/step - loss: 0.2341 - accuracy: 0.9324 - val_loss: 0.1395 - val_accuracy: 0.9590\n",
      "Epoch 5/20\n",
      "50/50 [==============================] - 3s 54ms/step - loss: 0.2024 - accuracy: 0.9419 - val_loss: 0.1217 - val_accuracy: 0.9631\n",
      "Epoch 6/20\n",
      "50/50 [==============================] - 2s 45ms/step - loss: 0.1768 - accuracy: 0.9479 - val_loss: 0.1126 - val_accuracy: 0.9659\n",
      "Epoch 7/20\n",
      "50/50 [==============================] - 2s 42ms/step - loss: 0.1617 - accuracy: 0.9513 - val_loss: 0.1047 - val_accuracy: 0.9685\n",
      "Epoch 8/20\n",
      "50/50 [==============================] - 2s 50ms/step - loss: 0.1466 - accuracy: 0.9564 - val_loss: 0.0952 - val_accuracy: 0.9713\n",
      "Epoch 9/20\n",
      "50/50 [==============================] - 2s 45ms/step - loss: 0.1287 - accuracy: 0.9615 - val_loss: 0.0920 - val_accuracy: 0.9707\n",
      "Epoch 10/20\n",
      "50/50 [==============================] - 2s 42ms/step - loss: 0.1207 - accuracy: 0.9642 - val_loss: 0.0879 - val_accuracy: 0.9739\n",
      "Epoch 11/20\n",
      "50/50 [==============================] - 3s 53ms/step - loss: 0.1141 - accuracy: 0.9659 - val_loss: 0.0814 - val_accuracy: 0.9750\n",
      "Epoch 12/20\n",
      "50/50 [==============================] - 3s 50ms/step - loss: 0.1047 - accuracy: 0.9681 - val_loss: 0.0791 - val_accuracy: 0.9767\n",
      "Epoch 13/20\n",
      "50/50 [==============================] - 2s 43ms/step - loss: 0.0966 - accuracy: 0.9713 - val_loss: 0.0802 - val_accuracy: 0.9757\n",
      "Epoch 14/20\n",
      "50/50 [==============================] - 3s 50ms/step - loss: 0.0935 - accuracy: 0.9726 - val_loss: 0.0784 - val_accuracy: 0.9762\n",
      "Epoch 15/20\n",
      "50/50 [==============================] - 2s 48ms/step - loss: 0.0885 - accuracy: 0.9730 - val_loss: 0.0753 - val_accuracy: 0.9773\n",
      "Epoch 16/20\n",
      "50/50 [==============================] - 2s 43ms/step - loss: 0.0828 - accuracy: 0.9747 - val_loss: 0.0762 - val_accuracy: 0.9774\n",
      "Epoch 17/20\n",
      "50/50 [==============================] - 2s 48ms/step - loss: 0.0789 - accuracy: 0.9757 - val_loss: 0.0733 - val_accuracy: 0.9776\n",
      "Epoch 18/20\n",
      "50/50 [==============================] - 2s 48ms/step - loss: 0.0742 - accuracy: 0.9771 - val_loss: 0.0723 - val_accuracy: 0.9793\n",
      "Epoch 19/20\n",
      "50/50 [==============================] - 2s 42ms/step - loss: 0.0717 - accuracy: 0.9781 - val_loss: 0.0719 - val_accuracy: 0.9778\n",
      "Epoch 20/20\n",
      "50/50 [==============================] - 2s 48ms/step - loss: 0.0685 - accuracy: 0.9784 - val_loss: 0.0735 - val_accuracy: 0.9779\n"
     ]
    }
   ],
   "source": [
    "reg_model.compile(optimizer='adam', loss=tf.keras.losses.categorical_crossentropy, metrics=['accuracy'])\n",
    "\n",
    "reg_history = reg_model.fit(x_train, y_train, validation_data=(x_val, y_val), epochs=20, batch_size=1000)"
   ]
  },
  {
   "cell_type": "code",
   "execution_count": 22,
   "metadata": {
    "ExecuteTime": {
     "end_time": "2020-09-16T00:25:59.042256Z",
     "start_time": "2020-09-16T00:25:58.135562Z"
    }
   },
   "outputs": [
    {
     "name": "stdout",
     "output_type": "stream",
     "text": [
      "313/313 [==============================] - 1s 2ms/step - loss: 0.0714 - accuracy: 0.9801\n",
      "Test loss: 0.07143773138523102\n",
      "Test accuracy: 0.9800999760627747\n"
     ]
    }
   ],
   "source": [
    "test_loss, test_accuracy = reg_model.evaluate(test_images, y_test)\n",
    "\n",
    "print('Test loss: {}'.format(test_loss))\n",
    "print('Test accuracy: {}'.format(test_accuracy))"
   ]
  },
  {
   "cell_type": "code",
   "execution_count": 23,
   "metadata": {
    "ExecuteTime": {
     "end_time": "2020-09-16T00:26:04.221978Z",
     "start_time": "2020-09-16T00:26:03.889824Z"
    }
   },
   "outputs": [
    {
     "data": {
      "text/plain": [
       "Text(0.5, 1.0, 'Loss Curves - After Reularization')"
      ]
     },
     "execution_count": 23,
     "metadata": {},
     "output_type": "execute_result"
    },
    {
     "data": {
      "image/png": "[encoded data removed]",
      "text/plain": [
       "<Figure size 432x288 with 1 Axes>"
      ]
     },
     "metadata": {
      "needs_background": "light"
     },
     "output_type": "display_data"
    }
   ],
   "source": [
    "# check for overfitting\n",
    "plt.figure()\n",
    "plt.plot(reg_history.history['loss'], 'blue')\n",
    "plt.plot(reg_history.history['val_loss'], 'red')\n",
    "plt.legend(['Training loss', 'Validation loss'])\n",
    "plt.xlabel('Epochs')\n",
    "plt.ylabel('Loss')\n",
    "plt.title('Loss Curves - After Reularization')"
   ]
  },
  {
   "cell_type": "code",
   "execution_count": 2,
   "metadata": {
    "ExecuteTime": {
     "end_time": "2020-09-18T11:43:19.333141Z",
     "start_time": "2020-09-18T11:41:43.573140Z"
    }
   },
   "outputs": [],
   "source": [
    "from tensorflow.keras.layers import Conv2D, MaxPooling2D"
   ]
  },
  {
   "cell_type": "code",
   "execution_count": 3,
   "metadata": {
    "ExecuteTime": {
     "end_time": "2020-09-18T11:43:19.683053Z",
     "start_time": "2020-09-18T11:43:19.340136Z"
    }
   },
   "outputs": [],
   "source": [
    "Conv2D?"
   ]
  },
  {
   "cell_type": "code",
   "execution_count": null,
   "metadata": {},
   "outputs": [],
   "source": []
  }
 ],
 "metadata": {
  "kernelspec": {
   "display_name": "Python 3",
   "language": "python",
   "name": "python3"
  },
  "language_info": {
   "codemirror_mode": {
    "name": "ipython",
    "version": 3
   },
   "file_extension": ".py",
   "mimetype": "text/x-python",
   "name": "python",
   "nbconvert_exporter": "python",
   "pygments_lexer": "ipython3",
   "version": "3.7.6"
  }
 },
 "nbformat": 4,
 "nbformat_minor": 4
}
