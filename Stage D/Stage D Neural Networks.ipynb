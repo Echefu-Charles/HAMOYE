{
 "cells": [
  {
   "cell_type": "code",
   "execution_count": null,
   "metadata": {},
   "outputs": [],
   "source": [
    "# This is an example snippet!\n",
    "# To create your own, add a new snippet block to the\n",
    "# snippets.json file in your jupyter nbextensions directory:\n",
    "# /nbextensions/snippets/snippets.json\n",
    "import this"
   ]
  },
  {
   "cell_type": "code",
   "execution_count": 1,
   "metadata": {
    "ExecuteTime": {
     "end_time": "2020-09-16T00:04:29.700729Z",
     "start_time": "2020-09-16T00:03:54.358389Z"
    }
   },
   "outputs": [],
   "source": [
    "import numpy as np\n",
    "import matplotlib.pyplot as plt\n",
    "import tensorflow as tf\n",
    "from tensorflow import keras\n",
    "\n",
    "mnist = keras.datasets.mnist"
   ]
  },
  {
   "cell_type": "code",
   "execution_count": 2,
   "metadata": {
    "ExecuteTime": {
     "end_time": "2020-09-16T00:04:30.345488Z",
     "start_time": "2020-09-16T00:04:29.715793Z"
    }
   },
   "outputs": [
    {
     "name": "stdout",
     "output_type": "stream",
     "text": [
      "Training Data : (60000, 28, 28), (60000,)\n",
      "Test Data : (10000, 28, 28), (10000,)\n"
     ]
    }
   ],
   "source": [
    "(train_images, train_labels), (test_images, test_labels) = mnist.load_data()\n",
    "\n",
    "print(\"Training Data : {}, {}\".format(train_images.shape, train_labels.shape))\n",
    "print(\"Test Data : {}, {}\".format(test_images.shape, test_labels.shape))"
   ]
  },
  {
   "cell_type": "code",
   "execution_count": 3,
   "metadata": {
    "ExecuteTime": {
     "end_time": "2020-09-16T00:04:30.359478Z",
     "start_time": "2020-09-16T00:04:30.348483Z"
    }
   },
   "outputs": [
    {
     "name": "stdout",
     "output_type": "stream",
     "text": [
      "There are 10 classes in the dataset. They are [0 1 2 3 4 5 6 7 8 9]\n"
     ]
    }
   ],
   "source": [
    "class_labels = np.unique(train_labels)\n",
    "print(\"There are {} classes in the dataset. They are {}\".format(len(class_labels), class_labels))"
   ]
  },
  {
   "cell_type": "code",
   "execution_count": 4,
   "metadata": {
    "ExecuteTime": {
     "end_time": "2020-09-16T00:04:31.241660Z",
     "start_time": "2020-09-16T00:04:30.362478Z"
    }
   },
   "outputs": [
    {
     "data": {
      "text/plain": [
       "<matplotlib.image.AxesImage at 0x23e2127ebc8>"
      ]
     },
     "execution_count": 4,
     "metadata": {},
     "output_type": "execute_result"
    },
    {
     "data": {
      "image/png": "[encoded data removed]",
      "text/plain": [
       "<Figure size 576x360 with 3 Axes>"
      ]
     },
     "metadata": {
      "needs_background": "light"
     },
     "output_type": "display_data"
    }
   ],
   "source": [
    "plt.figure(figsize=(8,5))\n",
    "\n",
    "plt.subplot(1,3,1)\n",
    "plt.imshow(train_images[30])\n",
    "plt.title(\"Label {}\".format(train_labels[30]))\n",
    "\n",
    "plt.subplot(1,3,2)\n",
    "plt.imshow(train_images[2500])\n",
    "plt.title(\"Label {}\".format(train_labels[2500]))\n",
    "\n",
    "plt.subplot(1,3,3)\n",
    "plt.imshow(test_images[12])"
   ]
  },
  {
   "cell_type": "code",
   "execution_count": 5,
   "metadata": {
    "ExecuteTime": {
     "end_time": "2020-09-16T00:04:40.633357Z",
     "start_time": "2020-09-16T00:04:40.089694Z"
    }
   },
   "outputs": [],
   "source": [
    "train_images = train_images/255.0\n",
    "test_images = test_images/255.0"
   ]
  },
  {
   "cell_type": "code",
   "execution_count": 6,
   "metadata": {
    "ExecuteTime": {
     "end_time": "2020-09-16T00:04:40.690322Z",
     "start_time": "2020-09-16T00:04:40.669335Z"
    }
   },
   "outputs": [
    {
     "name": "stdout",
     "output_type": "stream",
     "text": [
      "(50000, 28, 28)\n",
      "(10000, 28, 28)\n",
      "(50000,)\n",
      "(10000,)\n"
     ]
    }
   ],
   "source": [
    "x_train = train_images[0:50000]\n",
    "x_val = train_images[50000:]\n",
    "y_train = train_labels[0:50000]\n",
    "y_val = train_labels[50000:]\n",
    "\n",
    "\n",
    "print(x_train.shape)\n",
    "print(x_val.shape)\n",
    "print(y_train.shape)\n",
    "print(y_val.shape)"
   ]
  },
  {
   "cell_type": "code",
   "execution_count": 7,
   "metadata": {
    "ExecuteTime": {
     "end_time": "2020-09-16T00:04:43.578347Z",
     "start_time": "2020-09-16T00:04:43.568353Z"
    }
   },
   "outputs": [
    {
     "name": "stdout",
     "output_type": "stream",
     "text": [
      "x_train: (50000, 784)\n",
      "x_val: (10000, 784)\n",
      "test_images: (10000, 784)\n"
     ]
    }
   ],
   "source": [
    "# Reshape the data to two dimensinal array\n",
    "new_dimension = np.prod(train_images.shape[1:])\n",
    "x_train = x_train.reshape(x_train.shape[0], new_dimension)\n",
    "x_val = x_val.reshape(x_val.shape[0], new_dimension)\n",
    "test_images = test_images.reshape(test_images.shape[0], new_dimension)\n",
    "\n",
    "print(\"x_train: {}\".format(x_train.shape)) #prints  x_train: (50000, 784)\n",
    "print(\"x_val: {}\".format(x_val.shape)) #prints x_val: (10000, 784)\n",
    "print(\"test_images: {}\".format(test_images.shape)) #prints test_images: (10000, 784)"
   ]
  },
  {
   "cell_type": "code",
   "execution_count": 8,
   "metadata": {
    "ExecuteTime": {
     "end_time": "2020-09-16T00:04:45.445093Z",
     "start_time": "2020-09-16T00:04:45.438097Z"
    }
   },
   "outputs": [
    {
     "data": {
      "text/plain": [
       "(10000,)"
      ]
     },
     "execution_count": 8,
     "metadata": {},
     "output_type": "execute_result"
    }
   ],
   "source": [
    "y_val.shape"
   ]
  },
  {
   "cell_type": "code",
   "execution_count": 9,
   "metadata": {
    "ExecuteTime": {
     "end_time": "2020-09-16T00:04:57.266257Z",
     "start_time": "2020-09-16T00:04:57.258262Z"
    }
   },
   "outputs": [
    {
     "data": {
      "text/plain": [
       "array([7, 2, 1, ..., 4, 5, 6], dtype=uint8)"
      ]
     },
     "execution_count": 9,
     "metadata": {},
     "output_type": "execute_result"
    }
   ],
   "source": [
    "test_labels"
   ]
  },
  {
   "cell_type": "code",
   "execution_count": 10,
   "metadata": {
    "ExecuteTime": {
     "end_time": "2020-09-16T00:05:25.919032Z",
     "start_time": "2020-09-16T00:05:25.907040Z"
    }
   },
   "outputs": [],
   "source": [
    "# Encode Labels to categorical variables\n",
    "from tensorflow.keras.utils import to_categorical\n",
    "no_labels = 10\n",
    "y_train = to_categorical(y_train, no_labels)\n",
    "y_val = to_categorical(y_val, no_labels)\n",
    "y_test = to_categorical(test_labels, no_labels)\n"
   ]
  },
  {
   "cell_type": "code",
   "execution_count": 17,
   "metadata": {
    "ExecuteTime": {
     "end_time": "2020-09-16T00:07:45.421649Z",
     "start_time": "2020-09-16T00:07:45.413655Z"
    }
   },
   "outputs": [
    {
     "data": {
      "text/plain": [
       "(10000, 784)"
      ]
     },
     "execution_count": 17,
     "metadata": {},
     "output_type": "execute_result"
    }
   ],
   "source": [
    "test_images.shape"
   ]
  },
  {
   "cell_type": "code",
   "execution_count": 11,
   "metadata": {
    "ExecuteTime": {
     "end_time": "2020-09-16T00:05:28.067830Z",
     "start_time": "2020-09-16T00:05:27.873949Z"
    }
   },
   "outputs": [
    {
     "name": "stdout",
     "output_type": "stream",
     "text": [
      "WARNING:tensorflow:From C:\\Users\\CHARLIE\\anaconda3\\lib\\site-packages\\tensorflow\\python\\compat\\v2_compat.py:96: disable_resource_variables (from tensorflow.python.ops.variable_scope) is deprecated and will be removed in a future version.\n",
      "Instructions for updating:\n",
      "non-resource variables are not supported in the long term\n"
     ]
    }
   ],
   "source": [
    "import tensorflow.compat.v1 as tf2\n",
    "tf2.disable_v2_behavior()"
   ]
  },
  {
   "cell_type": "code",
   "execution_count": 12,
   "metadata": {
    "ExecuteTime": {
     "end_time": "2020-09-16T00:05:30.070112Z",
     "start_time": "2020-09-16T00:05:30.059118Z"
    }
   },
   "outputs": [],
   "source": [
    "X = tf2.placeholder(tf2.float32, [None, new_dimension])\n",
    "Y = tf2.placeholder(tf2.float32, [None, no_labels])"
   ]
  },
  {
   "cell_type": "code",
   "execution_count": 13,
   "metadata": {
    "ExecuteTime": {
     "end_time": "2020-09-16T00:05:30.796456Z",
     "start_time": "2020-09-16T00:05:30.788460Z"
    }
   },
   "outputs": [
    {
     "data": {
      "text/plain": [
       "TensorShape([Dimension(None), Dimension(784)])"
      ]
     },
     "execution_count": 13,
     "metadata": {},
     "output_type": "execute_result"
    }
   ],
   "source": [
    "X.shape"
   ]
  },
  {
   "cell_type": "code",
   "execution_count": 18,
   "metadata": {
    "ExecuteTime": {
     "end_time": "2020-09-16T00:08:22.488754Z",
     "start_time": "2020-09-16T00:08:22.480758Z"
    }
   },
   "outputs": [
    {
     "data": {
      "text/plain": [
       "TensorShape([Dimension(None), Dimension(10)])"
      ]
     },
     "execution_count": 18,
     "metadata": {},
     "output_type": "execute_result"
    }
   ],
   "source": [
    "Y.shape"
   ]
  },
  {
   "cell_type": "code",
   "execution_count": 20,
   "metadata": {
    "ExecuteTime": {
     "end_time": "2020-09-15T16:11:09.938530Z",
     "start_time": "2020-09-15T16:11:09.202986Z"
    }
   },
   "outputs": [],
   "source": [
    "# Y_test = to_categorical(test_images, no_labels)"
   ]
  },
  {
   "cell_type": "code",
   "execution_count": 21,
   "metadata": {
    "ExecuteTime": {
     "end_time": "2020-09-15T16:11:34.532060Z",
     "start_time": "2020-09-15T16:11:34.525060Z"
    }
   },
   "outputs": [
    {
     "data": {
      "text/plain": [
       "(10000, 784, 10)"
      ]
     },
     "execution_count": 21,
     "metadata": {},
     "output_type": "execute_result"
    }
   ],
   "source": [
    "# Y_test.shape"
   ]
  },
  {
   "cell_type": "code",
   "execution_count": null,
   "metadata": {},
   "outputs": [],
   "source": []
  },
  {
   "cell_type": "code",
   "execution_count": 21,
   "metadata": {},
   "outputs": [],
   "source": [
    "# first_weight = tf2.Variable(tf2.random_uniform([new_dimension, first_layer_neurons]))"
   ]
  },
  {
   "cell_type": "code",
   "execution_count": 14,
   "metadata": {
    "ExecuteTime": {
     "end_time": "2020-09-16T00:05:38.787126Z",
     "start_time": "2020-09-16T00:05:38.772135Z"
    }
   },
   "outputs": [],
   "source": [
    "# Create Model Architecture\n",
    "def multilayer_perceptron(x, no_classes, first_layer_neurons=256, second_layer_neurons=128):\n",
    "    # First Layer\n",
    "    first_weight = tf2.Variable(tf2.random_uniform([new_dimension, first_layer_neurons]))\n",
    "    first_bias = tf2.Variable(tf2.zeros([first_layer_neurons]))\n",
    "    first_layer_output = tf2.nn.relu(tf2.add(tf2.matmul(x, first_weight), first_bias))\n",
    "    \n",
    "    #Second Layer\n",
    "    second_weight = tf2.Variable(tf2.random_uniform([first_layer_neurons, second_layer_neurons]))\n",
    "    second_bias = tf2.Variable(tf2.zeros([second_layer_neurons]))\n",
    "    second_layer_output = tf2.nn.relu(tf2.add(tf2.matmul(first_layer_output, second_weight), second_bias))\n",
    "    \n",
    "    #Final Layer\n",
    "    final_weight = tf2.Variable(tf2.random_uniform([second_layer_neurons, no_classes]))\n",
    "    final_bias = tf2.Variable(tf2.zeros([no_classes]))\n",
    "    logits = tf2.nn.relu(tf2.add(tf2.matmul(second_layer_output, final_weight), final_bias))\n",
    "    \n",
    "    return logits"
   ]
  },
  {
   "cell_type": "code",
   "execution_count": 20,
   "metadata": {
    "ExecuteTime": {
     "end_time": "2020-09-16T00:10:05.565447Z",
     "start_time": "2020-09-16T00:09:30.959714Z"
    }
   },
   "outputs": [
    {
     "name": "stdout",
     "output_type": "stream",
     "text": [
      "Epoch================0\n",
      "Epoch================1\n",
      "Epoch================2\n",
      "Epoch================3\n",
      "Epoch================4\n",
      "Epoch================5\n",
      "Epoch================6\n",
      "Epoch================7\n",
      "Epoch================8\n",
      "Epoch================9\n",
      "Epoch================10\n",
      "Epoch================11\n",
      "Epoch================12\n",
      "Epoch================13\n",
      "Epoch================14\n",
      "Epoch================15\n",
      "Epoch================16\n",
      "Epoch================17\n",
      "Epoch================18\n",
      "Epoch================19\n",
      "Accuracy: 0.9104999899864197\n"
     ]
    }
   ],
   "source": [
    "logits = multilayer_perceptron(X, no_labels)\n",
    "\n",
    "learning_rate = 0.01\n",
    "\n",
    "#defining optimizer and loss function of the network\n",
    "\n",
    "loss_op = tf2.reduce_mean(tf2.nn.softmax_cross_entropy_with_logits(logits=logits, labels=Y))\n",
    "optimizer = tf2.train.AdamOptimizer(learning_rate = learning_rate)\n",
    "train_op = optimizer.minimize(loss_op)\n",
    "\n",
    "#initialize the variables\n",
    "init = tf2.global_variables_initializer()\n",
    "\n",
    "epochs = 20\n",
    "batch_size = 1000\n",
    "iteration = len(x_train)// batch_size\n",
    "\n",
    "#train_model\n",
    "\n",
    "with tf2.Session() as session:\n",
    "    session.run(init)\n",
    "    for epoch in range(epochs):\n",
    "        average_cost = 0\n",
    "        start, end = 0, batch_size\n",
    "        \n",
    "        for i in range(iteration):\n",
    "            batch_x, batch_y = x_train[start: end], y_train[start: end]\n",
    "#             print('batch_x',batch_x.shape)\n",
    "#             print('batch_y',batch_y.shape)\n",
    "            _, loss = session.run([train_op, loss_op], feed_dict = {X:batch_x, Y:batch_y})\n",
    "            start += batch_size\n",
    "            end += batch_size\n",
    "            \n",
    "            #Average Loss\n",
    "            average_cost += loss/iteration\n",
    "        print(\"Epoch================{}\".format(epoch))\n",
    "        \n",
    "    #Evaluate_model\n",
    "    prediction = tf2.nn.softmax(logits)\n",
    "    ground_truth = tf2.equal(tf2.argmax(prediction, 1), tf2.argmax(Y, 1))\n",
    "    accuracy = tf2.reduce_mean(tf2.cast(ground_truth, \"float\"))\n",
    "    print(\"Accuracy: {}\".format(accuracy.eval({X:test_images, Y:y_test})))"
   ]
  },
  {
   "cell_type": "code",
   "execution_count": 19,
   "metadata": {
    "ExecuteTime": {
     "end_time": "2020-09-16T00:09:21.581542Z",
     "start_time": "2020-09-16T00:09:21.573546Z"
    }
   },
   "outputs": [
    {
     "data": {
      "text/plain": [
       "(10000, 10)"
      ]
     },
     "execution_count": 19,
     "metadata": {},
     "output_type": "execute_result"
    }
   ],
   "source": [
    "y_test.shape"
   ]
  },
  {
   "cell_type": "code",
   "execution_count": null,
   "metadata": {},
   "outputs": [],
   "source": []
  },
  {
   "cell_type": "code",
   "execution_count": null,
   "metadata": {},
   "outputs": [],
   "source": []
  },
  {
   "cell_type": "code",
   "execution_count": null,
   "metadata": {},
   "outputs": [],
   "source": []
  },
  {
   "cell_type": "code",
   "execution_count": null,
   "metadata": {},
   "outputs": [],
   "source": []
  },
  {
   "cell_type": "code",
   "execution_count": null,
   "metadata": {},
   "outputs": [],
   "source": []
  }
 ],
 "metadata": {
  "kernelspec": {
   "display_name": "Python 3",
   "language": "python",
   "name": "python3"
  },
  "language_info": {
   "codemirror_mode": {
    "name": "ipython",
    "version": 3
   },
   "file_extension": ".py",
   "mimetype": "text/x-python",
   "name": "python",
   "nbconvert_exporter": "python",
   "pygments_lexer": "ipython3",
   "version": "3.7.6"
  }
 },
 "nbformat": 4,
 "nbformat_minor": 4
}
