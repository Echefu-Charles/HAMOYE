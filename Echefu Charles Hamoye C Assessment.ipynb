{
 "cells": [
  {
   "cell_type": "code",
   "execution_count": 1,
   "metadata": {},
   "outputs": [],
   "source": [
    "import pandas as pd\n",
    "import numpy as np"
   ]
  },
  {
   "cell_type": "code",
   "execution_count": 7,
   "metadata": {},
   "outputs": [],
   "source": [
    "import lightgbm\n",
    "import xgboost"
   ]
  },
  {
   "cell_type": "code",
   "execution_count": 6,
   "metadata": {},
   "outputs": [
    {
     "data": {
      "text/html": [
       "<div>\n",
       "<style scoped>\n",
       "    .dataframe tbody tr th:only-of-type {\n",
       "        vertical-align: middle;\n",
       "    }\n",
       "\n",
       "    .dataframe tbody tr th {\n",
       "        vertical-align: top;\n",
       "    }\n",
       "\n",
       "    .dataframe thead th {\n",
       "        text-align: right;\n",
       "    }\n",
       "</style>\n",
       "<table border=\"1\" class=\"dataframe\">\n",
       "  <thead>\n",
       "    <tr style=\"text-align: right;\">\n",
       "      <th></th>\n",
       "      <th>tau1</th>\n",
       "      <th>tau2</th>\n",
       "      <th>tau3</th>\n",
       "      <th>tau4</th>\n",
       "      <th>p1</th>\n",
       "      <th>p2</th>\n",
       "      <th>p3</th>\n",
       "      <th>p4</th>\n",
       "      <th>g1</th>\n",
       "      <th>g2</th>\n",
       "      <th>g3</th>\n",
       "      <th>g4</th>\n",
       "      <th>stab</th>\n",
       "      <th>stabf</th>\n",
       "    </tr>\n",
       "  </thead>\n",
       "  <tbody>\n",
       "    <tr>\n",
       "      <th>0</th>\n",
       "      <td>2.959060</td>\n",
       "      <td>3.079885</td>\n",
       "      <td>8.381025</td>\n",
       "      <td>9.780754</td>\n",
       "      <td>3.763085</td>\n",
       "      <td>-0.782604</td>\n",
       "      <td>-1.257395</td>\n",
       "      <td>-1.723086</td>\n",
       "      <td>0.650456</td>\n",
       "      <td>0.859578</td>\n",
       "      <td>0.887445</td>\n",
       "      <td>0.958034</td>\n",
       "      <td>0.055347</td>\n",
       "      <td>unstable</td>\n",
       "    </tr>\n",
       "    <tr>\n",
       "      <th>1</th>\n",
       "      <td>9.304097</td>\n",
       "      <td>4.902524</td>\n",
       "      <td>3.047541</td>\n",
       "      <td>1.369357</td>\n",
       "      <td>5.067812</td>\n",
       "      <td>-1.940058</td>\n",
       "      <td>-1.872742</td>\n",
       "      <td>-1.255012</td>\n",
       "      <td>0.413441</td>\n",
       "      <td>0.862414</td>\n",
       "      <td>0.562139</td>\n",
       "      <td>0.781760</td>\n",
       "      <td>-0.005957</td>\n",
       "      <td>stable</td>\n",
       "    </tr>\n",
       "    <tr>\n",
       "      <th>2</th>\n",
       "      <td>8.971707</td>\n",
       "      <td>8.848428</td>\n",
       "      <td>3.046479</td>\n",
       "      <td>1.214518</td>\n",
       "      <td>3.405158</td>\n",
       "      <td>-1.207456</td>\n",
       "      <td>-1.277210</td>\n",
       "      <td>-0.920492</td>\n",
       "      <td>0.163041</td>\n",
       "      <td>0.766689</td>\n",
       "      <td>0.839444</td>\n",
       "      <td>0.109853</td>\n",
       "      <td>0.003471</td>\n",
       "      <td>unstable</td>\n",
       "    </tr>\n",
       "    <tr>\n",
       "      <th>3</th>\n",
       "      <td>0.716415</td>\n",
       "      <td>7.669600</td>\n",
       "      <td>4.486641</td>\n",
       "      <td>2.340563</td>\n",
       "      <td>3.963791</td>\n",
       "      <td>-1.027473</td>\n",
       "      <td>-1.938944</td>\n",
       "      <td>-0.997374</td>\n",
       "      <td>0.446209</td>\n",
       "      <td>0.976744</td>\n",
       "      <td>0.929381</td>\n",
       "      <td>0.362718</td>\n",
       "      <td>0.028871</td>\n",
       "      <td>unstable</td>\n",
       "    </tr>\n",
       "    <tr>\n",
       "      <th>4</th>\n",
       "      <td>3.134112</td>\n",
       "      <td>7.608772</td>\n",
       "      <td>4.943759</td>\n",
       "      <td>9.857573</td>\n",
       "      <td>3.525811</td>\n",
       "      <td>-1.125531</td>\n",
       "      <td>-1.845975</td>\n",
       "      <td>-0.554305</td>\n",
       "      <td>0.797110</td>\n",
       "      <td>0.455450</td>\n",
       "      <td>0.656947</td>\n",
       "      <td>0.820923</td>\n",
       "      <td>0.049860</td>\n",
       "      <td>unstable</td>\n",
       "    </tr>\n",
       "  </tbody>\n",
       "</table>\n",
       "</div>"
      ],
      "text/plain": [
       "       tau1      tau2      tau3      tau4        p1        p2        p3  \\\n",
       "0  2.959060  3.079885  8.381025  9.780754  3.763085 -0.782604 -1.257395   \n",
       "1  9.304097  4.902524  3.047541  1.369357  5.067812 -1.940058 -1.872742   \n",
       "2  8.971707  8.848428  3.046479  1.214518  3.405158 -1.207456 -1.277210   \n",
       "3  0.716415  7.669600  4.486641  2.340563  3.963791 -1.027473 -1.938944   \n",
       "4  3.134112  7.608772  4.943759  9.857573  3.525811 -1.125531 -1.845975   \n",
       "\n",
       "         p4        g1        g2        g3        g4      stab     stabf  \n",
       "0 -1.723086  0.650456  0.859578  0.887445  0.958034  0.055347  unstable  \n",
       "1 -1.255012  0.413441  0.862414  0.562139  0.781760 -0.005957    stable  \n",
       "2 -0.920492  0.163041  0.766689  0.839444  0.109853  0.003471  unstable  \n",
       "3 -0.997374  0.446209  0.976744  0.929381  0.362718  0.028871  unstable  \n",
       "4 -0.554305  0.797110  0.455450  0.656947  0.820923  0.049860  unstable  "
      ]
     },
     "execution_count": 6,
     "metadata": {},
     "output_type": "execute_result"
    }
   ],
   "source": [
    "df = pd.read_csv('https://archive.ics.uci.edu/ml/machine-learning-databases/00471/Data_for_UCI_named.csv')\n",
    "\n",
    "df.head()"
   ]
  },
  {
   "cell_type": "code",
   "execution_count": 8,
   "metadata": {},
   "outputs": [],
   "source": [
    "from sklearn.model_selection import train_test_split, RandomizedSearchCV\n",
    "from sklearn.ensemble import ExtraTreesClassifier"
   ]
  },
  {
   "cell_type": "code",
   "execution_count": null,
   "metadata": {},
   "outputs": [],
   "source": [
    "param_dist = {\"max_depth\": [3, None],\n",
    "              \"max_features\": randint(1, 9),\n",
    "              \"min_samples_leaf\": randint(1, 9),\n",
    "              \"criterion\": [\"gini\", \"entropy\"]}"
   ]
  },
  {
   "cell_type": "code",
   "execution_count": 9,
   "metadata": {},
   "outputs": [
    {
     "data": {
      "text/html": [
       "<div>\n",
       "<style scoped>\n",
       "    .dataframe tbody tr th:only-of-type {\n",
       "        vertical-align: middle;\n",
       "    }\n",
       "\n",
       "    .dataframe tbody tr th {\n",
       "        vertical-align: top;\n",
       "    }\n",
       "\n",
       "    .dataframe thead th {\n",
       "        text-align: right;\n",
       "    }\n",
       "</style>\n",
       "<table border=\"1\" class=\"dataframe\">\n",
       "  <thead>\n",
       "    <tr style=\"text-align: right;\">\n",
       "      <th></th>\n",
       "      <th>tau1</th>\n",
       "      <th>tau2</th>\n",
       "      <th>tau3</th>\n",
       "      <th>tau4</th>\n",
       "      <th>p1</th>\n",
       "      <th>p2</th>\n",
       "      <th>p3</th>\n",
       "      <th>p4</th>\n",
       "      <th>g1</th>\n",
       "      <th>g2</th>\n",
       "      <th>g3</th>\n",
       "      <th>g4</th>\n",
       "      <th>stab</th>\n",
       "    </tr>\n",
       "  </thead>\n",
       "  <tbody>\n",
       "    <tr>\n",
       "      <th>count</th>\n",
       "      <td>10000.000000</td>\n",
       "      <td>10000.000000</td>\n",
       "      <td>10000.000000</td>\n",
       "      <td>10000.000000</td>\n",
       "      <td>10000.000000</td>\n",
       "      <td>10000.000000</td>\n",
       "      <td>10000.000000</td>\n",
       "      <td>10000.000000</td>\n",
       "      <td>10000.000000</td>\n",
       "      <td>10000.000000</td>\n",
       "      <td>10000.000000</td>\n",
       "      <td>10000.000000</td>\n",
       "      <td>10000.000000</td>\n",
       "    </tr>\n",
       "    <tr>\n",
       "      <th>mean</th>\n",
       "      <td>5.250000</td>\n",
       "      <td>5.250001</td>\n",
       "      <td>5.250004</td>\n",
       "      <td>5.249997</td>\n",
       "      <td>3.750000</td>\n",
       "      <td>-1.250000</td>\n",
       "      <td>-1.250000</td>\n",
       "      <td>-1.250000</td>\n",
       "      <td>0.525000</td>\n",
       "      <td>0.525000</td>\n",
       "      <td>0.525000</td>\n",
       "      <td>0.525000</td>\n",
       "      <td>0.015731</td>\n",
       "    </tr>\n",
       "    <tr>\n",
       "      <th>std</th>\n",
       "      <td>2.742548</td>\n",
       "      <td>2.742549</td>\n",
       "      <td>2.742549</td>\n",
       "      <td>2.742556</td>\n",
       "      <td>0.752160</td>\n",
       "      <td>0.433035</td>\n",
       "      <td>0.433035</td>\n",
       "      <td>0.433035</td>\n",
       "      <td>0.274256</td>\n",
       "      <td>0.274255</td>\n",
       "      <td>0.274255</td>\n",
       "      <td>0.274255</td>\n",
       "      <td>0.036919</td>\n",
       "    </tr>\n",
       "    <tr>\n",
       "      <th>min</th>\n",
       "      <td>0.500793</td>\n",
       "      <td>0.500141</td>\n",
       "      <td>0.500788</td>\n",
       "      <td>0.500473</td>\n",
       "      <td>1.582590</td>\n",
       "      <td>-1.999891</td>\n",
       "      <td>-1.999945</td>\n",
       "      <td>-1.999926</td>\n",
       "      <td>0.050009</td>\n",
       "      <td>0.050053</td>\n",
       "      <td>0.050054</td>\n",
       "      <td>0.050028</td>\n",
       "      <td>-0.080760</td>\n",
       "    </tr>\n",
       "    <tr>\n",
       "      <th>25%</th>\n",
       "      <td>2.874892</td>\n",
       "      <td>2.875140</td>\n",
       "      <td>2.875522</td>\n",
       "      <td>2.874950</td>\n",
       "      <td>3.218300</td>\n",
       "      <td>-1.624901</td>\n",
       "      <td>-1.625025</td>\n",
       "      <td>-1.624960</td>\n",
       "      <td>0.287521</td>\n",
       "      <td>0.287552</td>\n",
       "      <td>0.287514</td>\n",
       "      <td>0.287494</td>\n",
       "      <td>-0.015557</td>\n",
       "    </tr>\n",
       "    <tr>\n",
       "      <th>50%</th>\n",
       "      <td>5.250004</td>\n",
       "      <td>5.249981</td>\n",
       "      <td>5.249979</td>\n",
       "      <td>5.249734</td>\n",
       "      <td>3.751025</td>\n",
       "      <td>-1.249966</td>\n",
       "      <td>-1.249974</td>\n",
       "      <td>-1.250007</td>\n",
       "      <td>0.525009</td>\n",
       "      <td>0.525003</td>\n",
       "      <td>0.525015</td>\n",
       "      <td>0.525002</td>\n",
       "      <td>0.017142</td>\n",
       "    </tr>\n",
       "    <tr>\n",
       "      <th>75%</th>\n",
       "      <td>7.624690</td>\n",
       "      <td>7.624893</td>\n",
       "      <td>7.624948</td>\n",
       "      <td>7.624838</td>\n",
       "      <td>4.282420</td>\n",
       "      <td>-0.874977</td>\n",
       "      <td>-0.875043</td>\n",
       "      <td>-0.875065</td>\n",
       "      <td>0.762435</td>\n",
       "      <td>0.762490</td>\n",
       "      <td>0.762440</td>\n",
       "      <td>0.762433</td>\n",
       "      <td>0.044878</td>\n",
       "    </tr>\n",
       "    <tr>\n",
       "      <th>max</th>\n",
       "      <td>9.999469</td>\n",
       "      <td>9.999837</td>\n",
       "      <td>9.999450</td>\n",
       "      <td>9.999443</td>\n",
       "      <td>5.864418</td>\n",
       "      <td>-0.500108</td>\n",
       "      <td>-0.500072</td>\n",
       "      <td>-0.500025</td>\n",
       "      <td>0.999937</td>\n",
       "      <td>0.999944</td>\n",
       "      <td>0.999982</td>\n",
       "      <td>0.999930</td>\n",
       "      <td>0.109403</td>\n",
       "    </tr>\n",
       "  </tbody>\n",
       "</table>\n",
       "</div>"
      ],
      "text/plain": [
       "               tau1          tau2          tau3          tau4            p1  \\\n",
       "count  10000.000000  10000.000000  10000.000000  10000.000000  10000.000000   \n",
       "mean       5.250000      5.250001      5.250004      5.249997      3.750000   \n",
       "std        2.742548      2.742549      2.742549      2.742556      0.752160   \n",
       "min        0.500793      0.500141      0.500788      0.500473      1.582590   \n",
       "25%        2.874892      2.875140      2.875522      2.874950      3.218300   \n",
       "50%        5.250004      5.249981      5.249979      5.249734      3.751025   \n",
       "75%        7.624690      7.624893      7.624948      7.624838      4.282420   \n",
       "max        9.999469      9.999837      9.999450      9.999443      5.864418   \n",
       "\n",
       "                 p2            p3            p4            g1            g2  \\\n",
       "count  10000.000000  10000.000000  10000.000000  10000.000000  10000.000000   \n",
       "mean      -1.250000     -1.250000     -1.250000      0.525000      0.525000   \n",
       "std        0.433035      0.433035      0.433035      0.274256      0.274255   \n",
       "min       -1.999891     -1.999945     -1.999926      0.050009      0.050053   \n",
       "25%       -1.624901     -1.625025     -1.624960      0.287521      0.287552   \n",
       "50%       -1.249966     -1.249974     -1.250007      0.525009      0.525003   \n",
       "75%       -0.874977     -0.875043     -0.875065      0.762435      0.762490   \n",
       "max       -0.500108     -0.500072     -0.500025      0.999937      0.999944   \n",
       "\n",
       "                 g3            g4          stab  \n",
       "count  10000.000000  10000.000000  10000.000000  \n",
       "mean       0.525000      0.525000      0.015731  \n",
       "std        0.274255      0.274255      0.036919  \n",
       "min        0.050054      0.050028     -0.080760  \n",
       "25%        0.287514      0.287494     -0.015557  \n",
       "50%        0.525015      0.525002      0.017142  \n",
       "75%        0.762440      0.762433      0.044878  \n",
       "max        0.999982      0.999930      0.109403  "
      ]
     },
     "execution_count": 9,
     "metadata": {},
     "output_type": "execute_result"
    }
   ],
   "source": [
    "df.describe()"
   ]
  },
  {
   "cell_type": "code",
   "execution_count": 10,
   "metadata": {},
   "outputs": [
    {
     "data": {
      "text/plain": [
       "tau1     0\n",
       "tau2     0\n",
       "tau3     0\n",
       "tau4     0\n",
       "p1       0\n",
       "p2       0\n",
       "p3       0\n",
       "p4       0\n",
       "g1       0\n",
       "g2       0\n",
       "g3       0\n",
       "g4       0\n",
       "stab     0\n",
       "stabf    0\n",
       "dtype: int64"
      ]
     },
     "execution_count": 10,
     "metadata": {},
     "output_type": "execute_result"
    }
   ],
   "source": [
    "df.isna().sum()"
   ]
  },
  {
   "cell_type": "code",
   "execution_count": 12,
   "metadata": {},
   "outputs": [],
   "source": [
    "df = df.drop(['stab'], axis=1)"
   ]
  },
  {
   "cell_type": "code",
   "execution_count": 11,
   "metadata": {},
   "outputs": [
    {
     "name": "stdout",
     "output_type": "stream",
     "text": [
      "<class 'pandas.core.frame.DataFrame'>\n",
      "RangeIndex: 10000 entries, 0 to 9999\n",
      "Data columns (total 14 columns):\n",
      " #   Column  Non-Null Count  Dtype  \n",
      "---  ------  --------------  -----  \n",
      " 0   tau1    10000 non-null  float64\n",
      " 1   tau2    10000 non-null  float64\n",
      " 2   tau3    10000 non-null  float64\n",
      " 3   tau4    10000 non-null  float64\n",
      " 4   p1      10000 non-null  float64\n",
      " 5   p2      10000 non-null  float64\n",
      " 6   p3      10000 non-null  float64\n",
      " 7   p4      10000 non-null  float64\n",
      " 8   g1      10000 non-null  float64\n",
      " 9   g2      10000 non-null  float64\n",
      " 10  g3      10000 non-null  float64\n",
      " 11  g4      10000 non-null  float64\n",
      " 12  stab    10000 non-null  float64\n",
      " 13  stabf   10000 non-null  object \n",
      "dtypes: float64(13), object(1)\n",
      "memory usage: 1.1+ MB\n"
     ]
    }
   ],
   "source": [
    "df.info()"
   ]
  },
  {
   "cell_type": "code",
   "execution_count": 13,
   "metadata": {},
   "outputs": [
    {
     "data": {
      "text/html": [
       "<div>\n",
       "<style scoped>\n",
       "    .dataframe tbody tr th:only-of-type {\n",
       "        vertical-align: middle;\n",
       "    }\n",
       "\n",
       "    .dataframe tbody tr th {\n",
       "        vertical-align: top;\n",
       "    }\n",
       "\n",
       "    .dataframe thead th {\n",
       "        text-align: right;\n",
       "    }\n",
       "</style>\n",
       "<table border=\"1\" class=\"dataframe\">\n",
       "  <thead>\n",
       "    <tr style=\"text-align: right;\">\n",
       "      <th></th>\n",
       "      <th>tau1</th>\n",
       "      <th>tau2</th>\n",
       "      <th>tau3</th>\n",
       "      <th>tau4</th>\n",
       "      <th>p1</th>\n",
       "      <th>p2</th>\n",
       "      <th>p3</th>\n",
       "      <th>p4</th>\n",
       "      <th>g1</th>\n",
       "      <th>g2</th>\n",
       "      <th>g3</th>\n",
       "      <th>g4</th>\n",
       "      <th>stabf</th>\n",
       "    </tr>\n",
       "  </thead>\n",
       "  <tbody>\n",
       "    <tr>\n",
       "      <th>0</th>\n",
       "      <td>2.959060</td>\n",
       "      <td>3.079885</td>\n",
       "      <td>8.381025</td>\n",
       "      <td>9.780754</td>\n",
       "      <td>3.763085</td>\n",
       "      <td>-0.782604</td>\n",
       "      <td>-1.257395</td>\n",
       "      <td>-1.723086</td>\n",
       "      <td>0.650456</td>\n",
       "      <td>0.859578</td>\n",
       "      <td>0.887445</td>\n",
       "      <td>0.958034</td>\n",
       "      <td>unstable</td>\n",
       "    </tr>\n",
       "    <tr>\n",
       "      <th>1</th>\n",
       "      <td>9.304097</td>\n",
       "      <td>4.902524</td>\n",
       "      <td>3.047541</td>\n",
       "      <td>1.369357</td>\n",
       "      <td>5.067812</td>\n",
       "      <td>-1.940058</td>\n",
       "      <td>-1.872742</td>\n",
       "      <td>-1.255012</td>\n",
       "      <td>0.413441</td>\n",
       "      <td>0.862414</td>\n",
       "      <td>0.562139</td>\n",
       "      <td>0.781760</td>\n",
       "      <td>stable</td>\n",
       "    </tr>\n",
       "  </tbody>\n",
       "</table>\n",
       "</div>"
      ],
      "text/plain": [
       "       tau1      tau2      tau3      tau4        p1        p2        p3  \\\n",
       "0  2.959060  3.079885  8.381025  9.780754  3.763085 -0.782604 -1.257395   \n",
       "1  9.304097  4.902524  3.047541  1.369357  5.067812 -1.940058 -1.872742   \n",
       "\n",
       "         p4        g1        g2        g3        g4     stabf  \n",
       "0 -1.723086  0.650456  0.859578  0.887445  0.958034  unstable  \n",
       "1 -1.255012  0.413441  0.862414  0.562139  0.781760    stable  "
      ]
     },
     "execution_count": 13,
     "metadata": {},
     "output_type": "execute_result"
    }
   ],
   "source": [
    "df.head(2)"
   ]
  },
  {
   "cell_type": "code",
   "execution_count": 15,
   "metadata": {},
   "outputs": [],
   "source": [
    "X = df.iloc[:, :-1].values\n",
    "Y = df['stabf']"
   ]
  },
  {
   "cell_type": "code",
   "execution_count": 30,
   "metadata": {},
   "outputs": [
    {
     "data": {
      "text/plain": [
       "unstable    6380\n",
       "stable      3620\n",
       "Name: stabf, dtype: int64"
      ]
     },
     "execution_count": 30,
     "metadata": {},
     "output_type": "execute_result"
    }
   ],
   "source": [
    "df.stabf.value_counts()"
   ]
  },
  {
   "cell_type": "code",
   "execution_count": 69,
   "metadata": {},
   "outputs": [],
   "source": [
    "from sklearn.preprocessing import LabelEncoder\n",
    "le = LabelEncoder()\n",
    "y = le.fit_transform(Y)\n"
   ]
  },
  {
   "cell_type": "code",
   "execution_count": null,
   "metadata": {},
   "outputs": [],
   "source": []
  },
  {
   "cell_type": "code",
   "execution_count": 70,
   "metadata": {},
   "outputs": [
    {
     "name": "stdout",
     "output_type": "stream",
     "text": [
      "[[   0 3620]\n",
      " [   1 6380]]\n"
     ]
    }
   ],
   "source": [
    "(unique, counts) = np.unique(y, return_counts=True)\n",
    "\n",
    "frequencies = np.asarray((unique, counts)).T\n",
    "print(frequencies)"
   ]
  },
  {
   "cell_type": "code",
   "execution_count": 71,
   "metadata": {},
   "outputs": [],
   "source": [
    "x_train, x_test, y_train, y_test = train_test_split(X,y, test_size=0.2, random_state=1)"
   ]
  },
  {
   "cell_type": "code",
   "execution_count": 72,
   "metadata": {},
   "outputs": [],
   "source": [
    "from sklearn.preprocessing import StandardScaler"
   ]
  },
  {
   "cell_type": "code",
   "execution_count": 73,
   "metadata": {},
   "outputs": [],
   "source": [
    "# y_train = y_train.reshape(-1,1)\n",
    "# y_test = y_test.reshape(-1,1)"
   ]
  },
  {
   "cell_type": "code",
   "execution_count": 74,
   "metadata": {},
   "outputs": [],
   "source": [
    "sc = StandardScaler()\n",
    "X_train = sc.fit_transform(x_train)\n",
    "# Y_train = sc.fit_transform(y_train)\n",
    "X_test = sc.fit_transform(x_test)"
   ]
  },
  {
   "cell_type": "code",
   "execution_count": null,
   "metadata": {},
   "outputs": [],
   "source": []
  },
  {
   "cell_type": "code",
   "execution_count": 103,
   "metadata": {},
   "outputs": [],
   "source": [
    "from sklearn.ensemble import RandomForestClassifier\n",
    "rf = RandomForestClassifier(n_estimators= 100,random_state = 1)\n",
    "  \n",
    "# fit the classifier with x and y data \n",
    "rf.fit(X_train, y_train)   \n",
    "rf_pred = rf.predict(X_test)"
   ]
  },
  {
   "cell_type": "code",
   "execution_count": 104,
   "metadata": {},
   "outputs": [
    {
     "name": "stdout",
     "output_type": "stream",
     "text": [
      "0.928\n"
     ]
    }
   ],
   "source": [
    "from sklearn.metrics import accuracy_score\n",
    "\n",
    "acc = accuracy_score(y_test, rf_pred)\n",
    "\n",
    "print(acc)"
   ]
  },
  {
   "cell_type": "code",
   "execution_count": null,
   "metadata": {},
   "outputs": [],
   "source": []
  },
  {
   "cell_type": "code",
   "execution_count": 47,
   "metadata": {},
   "outputs": [
    {
     "data": {
      "text/plain": [
       "(8000, 1)"
      ]
     },
     "execution_count": 47,
     "metadata": {},
     "output_type": "execute_result"
    }
   ],
   "source": [
    "y_train.shape"
   ]
  },
  {
   "cell_type": "code",
   "execution_count": 75,
   "metadata": {},
   "outputs": [
    {
     "data": {
      "text/plain": [
       "dtype('int32')"
      ]
     },
     "execution_count": 75,
     "metadata": {},
     "output_type": "execute_result"
    }
   ],
   "source": [
    "y_train.dtype"
   ]
  },
  {
   "cell_type": "code",
   "execution_count": 77,
   "metadata": {},
   "outputs": [],
   "source": [
    "etc = ExtraTreesClassifier(n_estimators = 5, criterion ='entropy', max_features = 2, random_state=1) \n",
    "  \n",
    "# Training the model \n",
    "etc.fit(X_train, y_train) \n",
    "  \n",
    "# Computing the importance of each feature \n",
    "feature_importance = etc.feature_importances_ \n",
    "\n",
    "etc_pred = etc.predict(X_test)"
   ]
  },
  {
   "cell_type": "code",
   "execution_count": 95,
   "metadata": {},
   "outputs": [
    {
     "name": "stdout",
     "output_type": "stream",
     "text": [
      "0.8145\n"
     ]
    }
   ],
   "source": [
    "etc_acc = accuracy_score(y_test, etc_pred)\n",
    "print(etc_acc)"
   ]
  },
  {
   "cell_type": "code",
   "execution_count": 78,
   "metadata": {},
   "outputs": [],
   "source": [
    "n_estimators = [50, 100, 300, 500, 1000]\n",
    "\n",
    "min_samples_split = [2, 3, 5, 7, 9]\n",
    "\n",
    "min_samples_leaf = [1, 2, 4, 6, 8]\n",
    "\n",
    "max_features = ['auto', 'sqrt', 'log2', None] \n",
    "\n",
    "hyperparameter_grid = {'n_estimators': n_estimators,\n",
    "\n",
    "                       'min_samples_leaf': min_samples_leaf,\n",
    "\n",
    "                       'min_samples_split': min_samples_split,\n",
    "\n",
    "                       'max_features': max_features}\n",
    "\n",
    "etc_cv = RandomizedSearchCV(etc, hyperparameter_grid, cv=5)"
   ]
  },
  {
   "cell_type": "code",
   "execution_count": 89,
   "metadata": {},
   "outputs": [],
   "source": [
    "etc2 = ExtraTreesClassifier()\n",
    "etc_cv2 = RandomizedSearchCV(etc2, hyperparameter_grid, cv=5, n_iter=10, \n",
    "                             scoring = 'accuracy', n_jobs = -1, verbose = 1, random_state = 1)"
   ]
  },
  {
   "cell_type": "code",
   "execution_count": 93,
   "metadata": {},
   "outputs": [
    {
     "name": "stdout",
     "output_type": "stream",
     "text": [
      "Fitting 5 folds for each of 10 candidates, totalling 50 fits\n"
     ]
    },
    {
     "name": "stderr",
     "output_type": "stream",
     "text": [
      "[Parallel(n_jobs=-1)]: Using backend LokyBackend with 4 concurrent workers.\n",
      "[Parallel(n_jobs=-1)]: Done  42 tasks      | elapsed:   57.5s\n",
      "[Parallel(n_jobs=-1)]: Done  50 out of  50 | elapsed:  1.1min finished\n"
     ]
    },
    {
     "data": {
      "text/plain": [
       "RandomizedSearchCV(cv=5, estimator=ExtraTreesClassifier(), n_jobs=-1,\n",
       "                   param_distributions={'max_features': ['auto', 'sqrt', 'log2',\n",
       "                                                         None],\n",
       "                                        'min_samples_leaf': [1, 2, 4, 6, 8],\n",
       "                                        'min_samples_split': [2, 3, 5, 7, 9],\n",
       "                                        'n_estimators': [50, 100, 300, 500,\n",
       "                                                         1000]},\n",
       "                   random_state=1, scoring='accuracy', verbose=1)"
      ]
     },
     "execution_count": 93,
     "metadata": {},
     "output_type": "execute_result"
    }
   ],
   "source": [
    "etc_cv2.fit(X_train, y_train)"
   ]
  },
  {
   "cell_type": "code",
   "execution_count": 79,
   "metadata": {},
   "outputs": [
    {
     "data": {
      "text/plain": [
       "RandomizedSearchCV(cv=5,\n",
       "                   estimator=ExtraTreesClassifier(criterion='entropy',\n",
       "                                                  max_features=2,\n",
       "                                                  n_estimators=5,\n",
       "                                                  random_state=1),\n",
       "                   param_distributions={'max_features': ['auto', 'sqrt', 'log2',\n",
       "                                                         None],\n",
       "                                        'min_samples_leaf': [1, 2, 4, 6, 8],\n",
       "                                        'min_samples_split': [2, 3, 5, 7, 9],\n",
       "                                        'n_estimators': [50, 100, 300, 500,\n",
       "                                                         1000]})"
      ]
     },
     "execution_count": 79,
     "metadata": {},
     "output_type": "execute_result"
    }
   ],
   "source": [
    "# tree_cv = RandomizedSearchCV(tree, param_dist, cv=5)\n",
    "\n",
    "# # Fit it to the data\n",
    "etc_cv.fit(X_train, y_train)"
   ]
  },
  {
   "cell_type": "code",
   "execution_count": 94,
   "metadata": {},
   "outputs": [
    {
     "name": "stdout",
     "output_type": "stream",
     "text": [
      "Tuned Decision Tree Parameters: {'n_estimators': 1000, 'min_samples_split': 2, 'min_samples_leaf': 8, 'max_features': None}\n",
      "Best score is 0.9248750000000001\n"
     ]
    }
   ],
   "source": [
    "# Print the tuned parameters and score\n",
    "print(\"Tuned Decision Tree Parameters: {}\".format(etc_cv2.best_params_))\n",
    "print(\"Best score is {}\".format(etc_cv2.best_score_))"
   ]
  },
  {
   "cell_type": "code",
   "execution_count": 97,
   "metadata": {},
   "outputs": [],
   "source": [
    "optimal_etc = ExtraTreesClassifier(n_estimators= 1000, min_samples_split= 2, min_samples_leaf= 8,\n",
    "                                   max_features= None, random_state=1)\n",
    "\n",
    "# Training the model \n",
    "optimal_etc.fit(X_train, y_train) \n",
    "  \n",
    "# Computing the importance of each feature \n",
    "feature_importance = optimal_etc.feature_importances_ \n",
    "\n",
    "optimal_etc_pred = optimal_etc.predict(X_test)"
   ]
  },
  {
   "cell_type": "code",
   "execution_count": 99,
   "metadata": {},
   "outputs": [
    {
     "name": "stdout",
     "output_type": "stream",
     "text": [
      "0.9285\n"
     ]
    }
   ],
   "source": [
    "optimal_acc = accuracy_score(y_test,optimal_etc_pred )\n",
    "print(optimal_acc)"
   ]
  },
  {
   "cell_type": "code",
   "execution_count": 98,
   "metadata": {},
   "outputs": [
    {
     "data": {
      "text/plain": [
       "array([0.13723975, 0.1405075 , 0.13468029, 0.13541676, 0.00368342,\n",
       "       0.00533686, 0.00542927, 0.00496249, 0.10256244, 0.10757765,\n",
       "       0.11306268, 0.10954089])"
      ]
     },
     "execution_count": 98,
     "metadata": {},
     "output_type": "execute_result"
    }
   ],
   "source": [
    "# Computing the importance of each feature \n",
    "feature_importance2 = optimal_etc.feature_importances_\n",
    "feature_importance2"
   ]
  },
  {
   "cell_type": "code",
   "execution_count": 102,
   "metadata": {},
   "outputs": [
    {
     "data": {
      "text/plain": [
       "Index(['tau1', 'tau2', 'tau3', 'tau4', 'p1', 'p2', 'p3', 'p4', 'g1', 'g2',\n",
       "       'g3', 'g4', 'stabf'],\n",
       "      dtype='object')"
      ]
     },
     "execution_count": 102,
     "metadata": {},
     "output_type": "execute_result"
    }
   ],
   "source": [
    "df.columns"
   ]
  },
  {
   "cell_type": "code",
   "execution_count": 87,
   "metadata": {},
   "outputs": [
    {
     "ename": "TypeError",
     "evalue": "fit() got an unexpected keyword argument 'cv_folds'",
     "output_type": "error",
     "traceback": [
      "\u001b[1;31m---------------------------------------------------------------------------\u001b[0m",
      "\u001b[1;31mTypeError\u001b[0m                                 Traceback (most recent call last)",
      "\u001b[1;32m<ipython-input-87-d265eebd2f95>\u001b[0m in \u001b[0;36m<module>\u001b[1;34m\u001b[0m\n\u001b[0;32m      4\u001b[0m \u001b[1;33m\u001b[0m\u001b[0m\n\u001b[0;32m      5\u001b[0m \u001b[1;33m\u001b[0m\u001b[0m\n\u001b[1;32m----> 6\u001b[1;33m \u001b[0mxgb\u001b[0m\u001b[1;33m.\u001b[0m\u001b[0mfit\u001b[0m\u001b[1;33m(\u001b[0m\u001b[0mX_train\u001b[0m\u001b[1;33m,\u001b[0m \u001b[0mX_test\u001b[0m\u001b[1;33m,\u001b[0m \u001b[0my_train\u001b[0m\u001b[1;33m,\u001b[0m \u001b[0my_test\u001b[0m\u001b[1;33m,\u001b[0m \u001b[0mcv_folds\u001b[0m\u001b[1;33m=\u001b[0m\u001b[1;36m5\u001b[0m\u001b[1;33m,\u001b[0m \u001b[0mearly_stopping_rounds\u001b[0m\u001b[1;33m=\u001b[0m\u001b[1;36m50\u001b[0m\u001b[1;33m)\u001b[0m\u001b[1;33m\u001b[0m\u001b[1;33m\u001b[0m\u001b[0m\n\u001b[0m",
      "\u001b[1;31mTypeError\u001b[0m: fit() got an unexpected keyword argument 'cv_folds'"
     ]
    }
   ],
   "source": [
    "xgb = xgboost.XGBClassifier(learning_rate=0.1, n_estimators=140, max_depth=5,\n",
    "                        min_child_weight=3, gamma=0.2, subsample=0.6, colsample_bytree=1.0,\n",
    "                        objective='binary:logistic', nthread=4, scale_pos_weight=1, seed=1)\n",
    "\n",
    "\n",
    "xgb.fit(X_train, X_test, y_train, y_test, cv_folds=5, early_stopping_rounds=50)"
   ]
  },
  {
   "cell_type": "code",
   "execution_count": null,
   "metadata": {},
   "outputs": [],
   "source": [
    "# dtrain = xgboost.DMatrix(X_train, label=y_train)\n",
    "# dtest = xgboost.DMatrix(X_test, label=y_test)\n",
    "\n",
    "\n",
    "\n",
    "# xgb = xgboost.Classifier()"
   ]
  },
  {
   "cell_type": "code",
   "execution_count": 81,
   "metadata": {},
   "outputs": [
    {
     "name": "stdout",
     "output_type": "stream",
     "text": [
      "[1]\tvalid_0's auc: 0.792811\n",
      "Training until validation scores don't improve for 100 rounds\n",
      "[2]\tvalid_0's auc: 0.843068\n",
      "[3]\tvalid_0's auc: 0.881484\n",
      "[4]\tvalid_0's auc: 0.891012\n",
      "[5]\tvalid_0's auc: 0.892135\n",
      "[6]\tvalid_0's auc: 0.892899\n",
      "[7]\tvalid_0's auc: 0.911829\n",
      "[8]\tvalid_0's auc: 0.909334\n",
      "[9]\tvalid_0's auc: 0.9148\n",
      "[10]\tvalid_0's auc: 0.919808\n",
      "[11]\tvalid_0's auc: 0.92242\n",
      "[12]\tvalid_0's auc: 0.933301\n",
      "[13]\tvalid_0's auc: 0.935832\n",
      "[14]\tvalid_0's auc: 0.937008\n",
      "[15]\tvalid_0's auc: 0.938743\n",
      "[16]\tvalid_0's auc: 0.937291\n",
      "[17]\tvalid_0's auc: 0.938098\n",
      "[18]\tvalid_0's auc: 0.941946\n",
      "[19]\tvalid_0's auc: 0.9386\n",
      "[20]\tvalid_0's auc: 0.944658\n",
      "[21]\tvalid_0's auc: 0.945482\n",
      "[22]\tvalid_0's auc: 0.947659\n",
      "[23]\tvalid_0's auc: 0.947861\n",
      "[24]\tvalid_0's auc: 0.949444\n",
      "[25]\tvalid_0's auc: 0.951173\n",
      "[26]\tvalid_0's auc: 0.952406\n",
      "[27]\tvalid_0's auc: 0.953318\n",
      "[28]\tvalid_0's auc: 0.95304\n",
      "[29]\tvalid_0's auc: 0.953983\n",
      "[30]\tvalid_0's auc: 0.953544\n",
      "[31]\tvalid_0's auc: 0.953277\n",
      "[32]\tvalid_0's auc: 0.955915\n",
      "[33]\tvalid_0's auc: 0.957145\n",
      "[34]\tvalid_0's auc: 0.959004\n",
      "[35]\tvalid_0's auc: 0.960164\n",
      "[36]\tvalid_0's auc: 0.96185\n",
      "[37]\tvalid_0's auc: 0.961901\n",
      "[38]\tvalid_0's auc: 0.961605\n",
      "[39]\tvalid_0's auc: 0.961422\n",
      "[40]\tvalid_0's auc: 0.960912\n",
      "[41]\tvalid_0's auc: 0.961026\n",
      "[42]\tvalid_0's auc: 0.960645\n",
      "[43]\tvalid_0's auc: 0.962179\n",
      "[44]\tvalid_0's auc: 0.963981\n",
      "[45]\tvalid_0's auc: 0.963948\n",
      "[46]\tvalid_0's auc: 0.96354\n",
      "[47]\tvalid_0's auc: 0.96339\n",
      "[48]\tvalid_0's auc: 0.963694\n",
      "[49]\tvalid_0's auc: 0.963113\n",
      "[50]\tvalid_0's auc: 0.963926\n",
      "[51]\tvalid_0's auc: 0.963878\n",
      "[52]\tvalid_0's auc: 0.965095\n",
      "[53]\tvalid_0's auc: 0.965782\n",
      "[54]\tvalid_0's auc: 0.965417\n",
      "[55]\tvalid_0's auc: 0.966462\n",
      "[56]\tvalid_0's auc: 0.967419\n",
      "[57]\tvalid_0's auc: 0.967542\n",
      "[58]\tvalid_0's auc: 0.968002\n",
      "[59]\tvalid_0's auc: 0.968283\n",
      "[60]\tvalid_0's auc: 0.968428\n",
      "[61]\tvalid_0's auc: 0.969422\n",
      "[62]\tvalid_0's auc: 0.969827\n",
      "[63]\tvalid_0's auc: 0.970586\n",
      "[64]\tvalid_0's auc: 0.970477\n",
      "[65]\tvalid_0's auc: 0.971223\n",
      "[66]\tvalid_0's auc: 0.971352\n",
      "[67]\tvalid_0's auc: 0.971496\n",
      "[68]\tvalid_0's auc: 0.971526\n",
      "[69]\tvalid_0's auc: 0.971507\n",
      "[70]\tvalid_0's auc: 0.971755\n",
      "[71]\tvalid_0's auc: 0.971762\n",
      "[72]\tvalid_0's auc: 0.972244\n",
      "[73]\tvalid_0's auc: 0.973017\n",
      "[74]\tvalid_0's auc: 0.973256\n",
      "[75]\tvalid_0's auc: 0.972985\n",
      "[76]\tvalid_0's auc: 0.973182\n",
      "[77]\tvalid_0's auc: 0.973047\n",
      "[78]\tvalid_0's auc: 0.973053\n",
      "[79]\tvalid_0's auc: 0.973501\n",
      "[80]\tvalid_0's auc: 0.973378\n",
      "[81]\tvalid_0's auc: 0.973838\n",
      "[82]\tvalid_0's auc: 0.973977\n",
      "[83]\tvalid_0's auc: 0.973966\n",
      "[84]\tvalid_0's auc: 0.974016\n",
      "[85]\tvalid_0's auc: 0.97404\n",
      "[86]\tvalid_0's auc: 0.974311\n",
      "[87]\tvalid_0's auc: 0.974348\n",
      "[88]\tvalid_0's auc: 0.97449\n",
      "[89]\tvalid_0's auc: 0.974524\n",
      "[90]\tvalid_0's auc: 0.974648\n",
      "[91]\tvalid_0's auc: 0.974726\n",
      "[92]\tvalid_0's auc: 0.974778\n",
      "[93]\tvalid_0's auc: 0.974632\n",
      "[94]\tvalid_0's auc: 0.974651\n",
      "[95]\tvalid_0's auc: 0.974815\n",
      "[96]\tvalid_0's auc: 0.974921\n",
      "[97]\tvalid_0's auc: 0.975027\n",
      "[98]\tvalid_0's auc: 0.975353\n",
      "[99]\tvalid_0's auc: 0.975507\n",
      "[100]\tvalid_0's auc: 0.975658\n",
      "[101]\tvalid_0's auc: 0.975803\n",
      "[102]\tvalid_0's auc: 0.975707\n",
      "[103]\tvalid_0's auc: 0.975822\n",
      "[104]\tvalid_0's auc: 0.976418\n",
      "[105]\tvalid_0's auc: 0.976326\n",
      "[106]\tvalid_0's auc: 0.976314\n",
      "[107]\tvalid_0's auc: 0.976611\n",
      "[108]\tvalid_0's auc: 0.976699\n",
      "[109]\tvalid_0's auc: 0.97682\n",
      "[110]\tvalid_0's auc: 0.977042\n",
      "[111]\tvalid_0's auc: 0.977372\n",
      "[112]\tvalid_0's auc: 0.977527\n",
      "[113]\tvalid_0's auc: 0.977715\n",
      "[114]\tvalid_0's auc: 0.977794\n",
      "[115]\tvalid_0's auc: 0.977984\n",
      "[116]\tvalid_0's auc: 0.977922\n",
      "[117]\tvalid_0's auc: 0.977717\n",
      "[118]\tvalid_0's auc: 0.977692\n",
      "[119]\tvalid_0's auc: 0.977699\n",
      "[120]\tvalid_0's auc: 0.977964\n",
      "[121]\tvalid_0's auc: 0.97794\n",
      "[122]\tvalid_0's auc: 0.977938\n",
      "[123]\tvalid_0's auc: 0.97789\n",
      "[124]\tvalid_0's auc: 0.977872\n",
      "[125]\tvalid_0's auc: 0.977889\n",
      "[126]\tvalid_0's auc: 0.977855\n",
      "[127]\tvalid_0's auc: 0.977897\n",
      "[128]\tvalid_0's auc: 0.977913\n",
      "[129]\tvalid_0's auc: 0.977809\n",
      "[130]\tvalid_0's auc: 0.977887\n",
      "[131]\tvalid_0's auc: 0.977891\n",
      "[132]\tvalid_0's auc: 0.977839\n",
      "[133]\tvalid_0's auc: 0.97801\n",
      "[134]\tvalid_0's auc: 0.978023\n",
      "[135]\tvalid_0's auc: 0.978089\n",
      "[136]\tvalid_0's auc: 0.978038\n",
      "[137]\tvalid_0's auc: 0.97807\n",
      "[138]\tvalid_0's auc: 0.978337\n",
      "[139]\tvalid_0's auc: 0.978344\n",
      "[140]\tvalid_0's auc: 0.978515\n",
      "[141]\tvalid_0's auc: 0.978728\n",
      "[142]\tvalid_0's auc: 0.978838\n",
      "[143]\tvalid_0's auc: 0.979057\n",
      "[144]\tvalid_0's auc: 0.979046\n",
      "[145]\tvalid_0's auc: 0.978933\n",
      "[146]\tvalid_0's auc: 0.979079\n",
      "[147]\tvalid_0's auc: 0.979349\n",
      "[148]\tvalid_0's auc: 0.979343\n",
      "[149]\tvalid_0's auc: 0.979322\n",
      "[150]\tvalid_0's auc: 0.979431\n",
      "[151]\tvalid_0's auc: 0.979405\n",
      "[152]\tvalid_0's auc: 0.979627\n",
      "[153]\tvalid_0's auc: 0.979918\n",
      "[154]\tvalid_0's auc: 0.979818\n",
      "[155]\tvalid_0's auc: 0.979606\n",
      "[156]\tvalid_0's auc: 0.979408\n",
      "[157]\tvalid_0's auc: 0.979455\n",
      "[158]\tvalid_0's auc: 0.979336\n",
      "[159]\tvalid_0's auc: 0.979404\n",
      "[160]\tvalid_0's auc: 0.979424\n",
      "[161]\tvalid_0's auc: 0.979698\n",
      "[162]\tvalid_0's auc: 0.979816\n",
      "[163]\tvalid_0's auc: 0.979935\n",
      "[164]\tvalid_0's auc: 0.979984\n",
      "[165]\tvalid_0's auc: 0.980133\n",
      "[166]\tvalid_0's auc: 0.980114\n",
      "[167]\tvalid_0's auc: 0.980036\n",
      "[168]\tvalid_0's auc: 0.980007\n",
      "[169]\tvalid_0's auc: 0.979966\n",
      "[170]\tvalid_0's auc: 0.980201\n",
      "[171]\tvalid_0's auc: 0.980228\n",
      "[172]\tvalid_0's auc: 0.980213\n",
      "[173]\tvalid_0's auc: 0.980407\n",
      "[174]\tvalid_0's auc: 0.980504\n",
      "[175]\tvalid_0's auc: 0.980524\n",
      "[176]\tvalid_0's auc: 0.980635\n",
      "[177]\tvalid_0's auc: 0.980473\n",
      "[178]\tvalid_0's auc: 0.98072\n",
      "[179]\tvalid_0's auc: 0.980768\n",
      "[180]\tvalid_0's auc: 0.980838\n",
      "[181]\tvalid_0's auc: 0.980996\n",
      "[182]\tvalid_0's auc: 0.98104\n",
      "[183]\tvalid_0's auc: 0.981245\n",
      "[184]\tvalid_0's auc: 0.98134\n",
      "[185]\tvalid_0's auc: 0.981413\n",
      "[186]\tvalid_0's auc: 0.98136\n",
      "[187]\tvalid_0's auc: 0.981609\n",
      "[188]\tvalid_0's auc: 0.98152\n",
      "[189]\tvalid_0's auc: 0.98159\n",
      "[190]\tvalid_0's auc: 0.981776\n",
      "[191]\tvalid_0's auc: 0.98181\n",
      "[192]\tvalid_0's auc: 0.982009\n",
      "[193]\tvalid_0's auc: 0.982142\n",
      "[194]\tvalid_0's auc: 0.982156\n",
      "[195]\tvalid_0's auc: 0.982176\n",
      "[196]\tvalid_0's auc: 0.982086\n",
      "[197]\tvalid_0's auc: 0.982121\n",
      "[198]\tvalid_0's auc: 0.982254\n",
      "[199]\tvalid_0's auc: 0.982248\n",
      "[200]\tvalid_0's auc: 0.982301\n",
      "[201]\tvalid_0's auc: 0.982435\n",
      "[202]\tvalid_0's auc: 0.98239\n",
      "[203]\tvalid_0's auc: 0.98253\n",
      "[204]\tvalid_0's auc: 0.982593\n",
      "[205]\tvalid_0's auc: 0.982562\n",
      "[206]\tvalid_0's auc: 0.982579\n",
      "[207]\tvalid_0's auc: 0.982823\n",
      "[208]\tvalid_0's auc: 0.982788\n",
      "[209]\tvalid_0's auc: 0.982905\n",
      "[210]\tvalid_0's auc: 0.982841\n",
      "[211]\tvalid_0's auc: 0.982965\n",
      "[212]\tvalid_0's auc: 0.983102\n",
      "[213]\tvalid_0's auc: 0.983082\n",
      "[214]\tvalid_0's auc: 0.983164\n",
      "[215]\tvalid_0's auc: 0.983183\n",
      "[216]\tvalid_0's auc: 0.983295\n",
      "[217]\tvalid_0's auc: 0.983233\n",
      "[218]\tvalid_0's auc: 0.98349\n",
      "[219]\tvalid_0's auc: 0.983643\n",
      "[220]\tvalid_0's auc: 0.983651\n",
      "[221]\tvalid_0's auc: 0.983782\n",
      "[222]\tvalid_0's auc: 0.98386\n",
      "[223]\tvalid_0's auc: 0.983885\n",
      "[224]\tvalid_0's auc: 0.983869\n",
      "[225]\tvalid_0's auc: 0.983905\n",
      "[226]\tvalid_0's auc: 0.983963\n",
      "[227]\tvalid_0's auc: 0.984063\n",
      "[228]\tvalid_0's auc: 0.984098\n",
      "[229]\tvalid_0's auc: 0.984155\n",
      "[230]\tvalid_0's auc: 0.984183\n",
      "[231]\tvalid_0's auc: 0.984204\n",
      "[232]\tvalid_0's auc: 0.984281\n",
      "[233]\tvalid_0's auc: 0.984257\n",
      "[234]\tvalid_0's auc: 0.984214\n",
      "[235]\tvalid_0's auc: 0.984252\n",
      "[236]\tvalid_0's auc: 0.984239\n",
      "[237]\tvalid_0's auc: 0.984163\n",
      "[238]\tvalid_0's auc: 0.98411\n",
      "[239]\tvalid_0's auc: 0.984131\n",
      "[240]\tvalid_0's auc: 0.984322\n",
      "[241]\tvalid_0's auc: 0.984394\n",
      "[242]\tvalid_0's auc: 0.984503\n",
      "[243]\tvalid_0's auc: 0.984491\n",
      "[244]\tvalid_0's auc: 0.984529\n",
      "[245]\tvalid_0's auc: 0.984534\n",
      "[246]\tvalid_0's auc: 0.984537\n",
      "[247]\tvalid_0's auc: 0.984482\n",
      "[248]\tvalid_0's auc: 0.984388\n",
      "[249]\tvalid_0's auc: 0.984403\n",
      "[250]\tvalid_0's auc: 0.984341\n",
      "[251]\tvalid_0's auc: 0.984512\n",
      "[252]\tvalid_0's auc: 0.984548\n",
      "[253]\tvalid_0's auc: 0.984498\n",
      "[254]\tvalid_0's auc: 0.984565\n",
      "[255]\tvalid_0's auc: 0.984548\n",
      "[256]\tvalid_0's auc: 0.984548\n",
      "[257]\tvalid_0's auc: 0.984638\n",
      "[258]\tvalid_0's auc: 0.984717\n",
      "[259]\tvalid_0's auc: 0.984751\n",
      "[260]\tvalid_0's auc: 0.984848\n",
      "[261]\tvalid_0's auc: 0.984806\n",
      "[262]\tvalid_0's auc: 0.984908\n",
      "[263]\tvalid_0's auc: 0.984923\n",
      "[264]\tvalid_0's auc: 0.984947\n",
      "[265]\tvalid_0's auc: 0.984955\n",
      "[266]\tvalid_0's auc: 0.984812\n",
      "[267]\tvalid_0's auc: 0.984774\n",
      "[268]\tvalid_0's auc: 0.984705\n",
      "[269]\tvalid_0's auc: 0.984849\n",
      "[270]\tvalid_0's auc: 0.984818\n",
      "[271]\tvalid_0's auc: 0.984824\n",
      "[272]\tvalid_0's auc: 0.984807\n",
      "[273]\tvalid_0's auc: 0.984745\n",
      "[274]\tvalid_0's auc: 0.98478\n",
      "[275]\tvalid_0's auc: 0.984764\n",
      "[276]\tvalid_0's auc: 0.984747\n",
      "[277]\tvalid_0's auc: 0.984756\n",
      "[278]\tvalid_0's auc: 0.984796\n",
      "[279]\tvalid_0's auc: 0.984813\n",
      "[280]\tvalid_0's auc: 0.984772\n",
      "[281]\tvalid_0's auc: 0.984776\n",
      "[282]\tvalid_0's auc: 0.984872\n",
      "[283]\tvalid_0's auc: 0.984799\n",
      "[284]\tvalid_0's auc: 0.984766\n",
      "[285]\tvalid_0's auc: 0.984722\n",
      "[286]\tvalid_0's auc: 0.984852\n"
     ]
    },
    {
     "name": "stdout",
     "output_type": "stream",
     "text": [
      "[287]\tvalid_0's auc: 0.984831\n",
      "[288]\tvalid_0's auc: 0.984834\n",
      "[289]\tvalid_0's auc: 0.984922\n",
      "[290]\tvalid_0's auc: 0.984824\n",
      "[291]\tvalid_0's auc: 0.984949\n",
      "[292]\tvalid_0's auc: 0.985066\n",
      "[293]\tvalid_0's auc: 0.985126\n",
      "[294]\tvalid_0's auc: 0.985101\n",
      "[295]\tvalid_0's auc: 0.98507\n",
      "[296]\tvalid_0's auc: 0.985124\n",
      "[297]\tvalid_0's auc: 0.985155\n",
      "[298]\tvalid_0's auc: 0.985196\n",
      "[299]\tvalid_0's auc: 0.985195\n",
      "[300]\tvalid_0's auc: 0.985143\n",
      "[301]\tvalid_0's auc: 0.98523\n",
      "[302]\tvalid_0's auc: 0.985228\n",
      "[303]\tvalid_0's auc: 0.985257\n",
      "[304]\tvalid_0's auc: 0.98527\n",
      "[305]\tvalid_0's auc: 0.985164\n",
      "[306]\tvalid_0's auc: 0.985127\n",
      "[307]\tvalid_0's auc: 0.985207\n",
      "[308]\tvalid_0's auc: 0.985206\n",
      "[309]\tvalid_0's auc: 0.985187\n",
      "[310]\tvalid_0's auc: 0.985298\n",
      "[311]\tvalid_0's auc: 0.985195\n",
      "[312]\tvalid_0's auc: 0.985215\n",
      "[313]\tvalid_0's auc: 0.985308\n",
      "[314]\tvalid_0's auc: 0.985433\n",
      "[315]\tvalid_0's auc: 0.985391\n",
      "[316]\tvalid_0's auc: 0.985513\n",
      "[317]\tvalid_0's auc: 0.985543\n",
      "[318]\tvalid_0's auc: 0.985521\n",
      "[319]\tvalid_0's auc: 0.985512\n",
      "[320]\tvalid_0's auc: 0.985413\n",
      "[321]\tvalid_0's auc: 0.985498\n",
      "[322]\tvalid_0's auc: 0.985462\n",
      "[323]\tvalid_0's auc: 0.985423\n",
      "[324]\tvalid_0's auc: 0.985423\n",
      "[325]\tvalid_0's auc: 0.98544\n",
      "[326]\tvalid_0's auc: 0.98553\n",
      "[327]\tvalid_0's auc: 0.985469\n",
      "[328]\tvalid_0's auc: 0.985507\n",
      "[329]\tvalid_0's auc: 0.985507\n",
      "[330]\tvalid_0's auc: 0.985497\n",
      "[331]\tvalid_0's auc: 0.985519\n",
      "[332]\tvalid_0's auc: 0.985532\n",
      "[333]\tvalid_0's auc: 0.985548\n",
      "[334]\tvalid_0's auc: 0.985516\n",
      "[335]\tvalid_0's auc: 0.985558\n",
      "[336]\tvalid_0's auc: 0.985589\n",
      "[337]\tvalid_0's auc: 0.985488\n",
      "[338]\tvalid_0's auc: 0.985509\n",
      "[339]\tvalid_0's auc: 0.985474\n",
      "[340]\tvalid_0's auc: 0.985422\n",
      "[341]\tvalid_0's auc: 0.985487\n",
      "[342]\tvalid_0's auc: 0.985399\n",
      "[343]\tvalid_0's auc: 0.985329\n",
      "[344]\tvalid_0's auc: 0.985287\n",
      "[345]\tvalid_0's auc: 0.985303\n",
      "[346]\tvalid_0's auc: 0.985245\n",
      "[347]\tvalid_0's auc: 0.985314\n",
      "[348]\tvalid_0's auc: 0.985302\n",
      "[349]\tvalid_0's auc: 0.985251\n",
      "[350]\tvalid_0's auc: 0.985235\n",
      "[351]\tvalid_0's auc: 0.985245\n",
      "[352]\tvalid_0's auc: 0.9852\n",
      "[353]\tvalid_0's auc: 0.985216\n",
      "[354]\tvalid_0's auc: 0.985155\n",
      "[355]\tvalid_0's auc: 0.985139\n",
      "[356]\tvalid_0's auc: 0.985094\n",
      "[357]\tvalid_0's auc: 0.985076\n",
      "[358]\tvalid_0's auc: 0.985084\n",
      "[359]\tvalid_0's auc: 0.985074\n",
      "[360]\tvalid_0's auc: 0.985119\n",
      "[361]\tvalid_0's auc: 0.985138\n",
      "[362]\tvalid_0's auc: 0.985176\n",
      "[363]\tvalid_0's auc: 0.985169\n",
      "[364]\tvalid_0's auc: 0.9851\n",
      "[365]\tvalid_0's auc: 0.985057\n",
      "[366]\tvalid_0's auc: 0.985058\n",
      "[367]\tvalid_0's auc: 0.985051\n",
      "[368]\tvalid_0's auc: 0.984987\n",
      "[369]\tvalid_0's auc: 0.985011\n",
      "[370]\tvalid_0's auc: 0.98507\n",
      "[371]\tvalid_0's auc: 0.985114\n",
      "[372]\tvalid_0's auc: 0.985075\n",
      "[373]\tvalid_0's auc: 0.985054\n",
      "[374]\tvalid_0's auc: 0.985002\n",
      "[375]\tvalid_0's auc: 0.985017\n",
      "[376]\tvalid_0's auc: 0.984971\n",
      "[377]\tvalid_0's auc: 0.984985\n",
      "[378]\tvalid_0's auc: 0.984989\n",
      "[379]\tvalid_0's auc: 0.984962\n",
      "[380]\tvalid_0's auc: 0.984879\n",
      "[381]\tvalid_0's auc: 0.984891\n",
      "[382]\tvalid_0's auc: 0.984871\n",
      "[383]\tvalid_0's auc: 0.984907\n",
      "[384]\tvalid_0's auc: 0.984938\n",
      "[385]\tvalid_0's auc: 0.984995\n",
      "[386]\tvalid_0's auc: 0.985019\n",
      "[387]\tvalid_0's auc: 0.985012\n",
      "[388]\tvalid_0's auc: 0.985023\n",
      "[389]\tvalid_0's auc: 0.985015\n",
      "[390]\tvalid_0's auc: 0.984995\n",
      "[391]\tvalid_0's auc: 0.98504\n",
      "[392]\tvalid_0's auc: 0.985133\n",
      "[393]\tvalid_0's auc: 0.985117\n",
      "[394]\tvalid_0's auc: 0.985206\n",
      "[395]\tvalid_0's auc: 0.985232\n",
      "[396]\tvalid_0's auc: 0.98526\n",
      "[397]\tvalid_0's auc: 0.985359\n",
      "[398]\tvalid_0's auc: 0.985342\n",
      "[399]\tvalid_0's auc: 0.985256\n",
      "[400]\tvalid_0's auc: 0.985198\n",
      "[401]\tvalid_0's auc: 0.985158\n",
      "[402]\tvalid_0's auc: 0.985125\n",
      "[403]\tvalid_0's auc: 0.985107\n",
      "[404]\tvalid_0's auc: 0.985117\n",
      "[405]\tvalid_0's auc: 0.985078\n",
      "[406]\tvalid_0's auc: 0.985131\n",
      "[407]\tvalid_0's auc: 0.985115\n",
      "[408]\tvalid_0's auc: 0.985139\n",
      "[409]\tvalid_0's auc: 0.985195\n",
      "[410]\tvalid_0's auc: 0.985222\n",
      "[411]\tvalid_0's auc: 0.98521\n",
      "[412]\tvalid_0's auc: 0.985232\n",
      "[413]\tvalid_0's auc: 0.985204\n",
      "[414]\tvalid_0's auc: 0.985157\n",
      "[415]\tvalid_0's auc: 0.985144\n",
      "[416]\tvalid_0's auc: 0.985097\n",
      "[417]\tvalid_0's auc: 0.985087\n",
      "[418]\tvalid_0's auc: 0.98513\n",
      "[419]\tvalid_0's auc: 0.985103\n",
      "[420]\tvalid_0's auc: 0.985003\n",
      "[421]\tvalid_0's auc: 0.984925\n",
      "[422]\tvalid_0's auc: 0.98494\n",
      "[423]\tvalid_0's auc: 0.984962\n",
      "[424]\tvalid_0's auc: 0.984991\n",
      "[425]\tvalid_0's auc: 0.984961\n",
      "[426]\tvalid_0's auc: 0.984978\n",
      "[427]\tvalid_0's auc: 0.984915\n",
      "[428]\tvalid_0's auc: 0.98485\n",
      "[429]\tvalid_0's auc: 0.9849\n",
      "[430]\tvalid_0's auc: 0.984871\n",
      "[431]\tvalid_0's auc: 0.984879\n",
      "[432]\tvalid_0's auc: 0.984872\n",
      "[433]\tvalid_0's auc: 0.984888\n",
      "[434]\tvalid_0's auc: 0.984825\n",
      "[435]\tvalid_0's auc: 0.984812\n",
      "[436]\tvalid_0's auc: 0.984748\n",
      "Early stopping, best iteration is:\n",
      "[336]\tvalid_0's auc: 0.985589\n"
     ]
    }
   ],
   "source": [
    "train_data = lightgbm.Dataset(X_train, label=y_train)\n",
    "test_data = lightgbm.Dataset(X_test, label=y_test)\n",
    "#\n",
    "# Train the model\n",
    "#\n",
    "\n",
    "parameters = {'application': 'binary',\n",
    "    'objective': 'binary',\n",
    "    'metric': 'auc',\n",
    "    'is_unbalance': 'true',\n",
    "    'boosting': 'gbdt',\n",
    "    'num_leaves': 31,\n",
    "    'feature_fraction': 0.5,\n",
    "    'bagging_fraction': 0.5,\n",
    "    'bagging_freq': 20,\n",
    "    'learning_rate': 0.05,\n",
    "    'verbose': 0\n",
    "}\n",
    "\n",
    "model = lightgbm.train(parameters,\n",
    "                       train_data,\n",
    "                       valid_sets=test_data,\n",
    "                       num_boost_round=5000,\n",
    "                       early_stopping_rounds=100)\n",
    "\n"
   ]
  },
  {
   "cell_type": "code",
   "execution_count": null,
   "metadata": {},
   "outputs": [],
   "source": []
  },
  {
   "cell_type": "code",
   "execution_count": null,
   "metadata": {},
   "outputs": [],
   "source": []
  },
  {
   "cell_type": "code",
   "execution_count": null,
   "metadata": {},
   "outputs": [],
   "source": []
  },
  {
   "cell_type": "code",
   "execution_count": null,
   "metadata": {},
   "outputs": [],
   "source": []
  }
 ],
 "metadata": {
  "kernelspec": {
   "display_name": "Python 3",
   "language": "python",
   "name": "python3"
  },
  "language_info": {
   "codemirror_mode": {
    "name": "ipython",
    "version": 3
   },
   "file_extension": ".py",
   "mimetype": "text/x-python",
   "name": "python",
   "nbconvert_exporter": "python",
   "pygments_lexer": "ipython3",
   "version": "3.8.3"
  }
 },
 "nbformat": 4,
 "nbformat_minor": 4
}
